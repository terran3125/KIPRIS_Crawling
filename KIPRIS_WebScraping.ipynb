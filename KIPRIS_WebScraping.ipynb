{
 "cells": [
  {
   "cell_type": "markdown",
   "id": "06b1fc99",
   "metadata": {},
   "source": [
    "# Code Description<br>\n",
    "\n",
    "This code is a code that collects patent PDFs using a web crawler for patent network analysis research.<br>\n",
    "Data is collected through a web page called KIPRIS that provides Korean patent data.<br>\n",
    "The data collected are the patent application PDF itself and various information about the patent.<br>\n",
    "\n",
    "Written By Sangmin Hwang(terran3125@u.sogang.ac.kr)"
   ]
  },
  {
   "cell_type": "markdown",
   "id": "e07ee379",
   "metadata": {},
   "source": [
    "### 1. Import Libraries & Set Working Directory"
   ]
  },
  {
   "cell_type": "code",
   "execution_count": null,
   "id": "e4fe1fa3",
   "metadata": {},
   "outputs": [],
   "source": [
    "#!pip install selenium\n",
    "#!pip install tqdm"
   ]
  },
  {
   "cell_type": "code",
   "execution_count": 1,
   "id": "04a91ec4",
   "metadata": {},
   "outputs": [],
   "source": [
    "# Basic Libraries\n",
    "import os, time\n",
    "import pandas as pd\n",
    "import numpy as np\n",
    "from tqdm import trange, tqdm\n",
    "\n",
    "# Web Scraping Methods\n",
    "from selenium import webdriver\n",
    "from selenium.webdriver.common.by import By\n",
    "from selenium.webdriver.common.keys import Keys\n",
    "from selenium.webdriver.support.select import Select\n",
    "\n",
    "from selenium.common.exceptions import NoSuchElementException\n",
    "from selenium.common.exceptions import StaleElementReferenceException\n",
    "from selenium.common.exceptions import NoSuchWindowException "
   ]
  },
  {
   "cell_type": "markdown",
   "id": "52ce6c7e",
   "metadata": {},
   "source": [
    "Set Directory to download csv files which have information about Patents"
   ]
  },
  {
   "cell_type": "code",
   "execution_count": 2,
   "id": "12065235",
   "metadata": {},
   "outputs": [],
   "source": [
    "#os.chdir(r'C:\\Users\\tkdal\\OneDrive - Sogang\\sogang_pypr\\기술금융 데이터\\KIPRIS_csv') # 노트북\n",
    "os.chdir(r'C:\\Users\\tkdals\\OneDrive - Sogang\\sogang_pypr\\기술금융 데이터\\KIPRIS_csv') # 연구실"
   ]
  },
  {
   "cell_type": "markdown",
   "id": "4e4842e9",
   "metadata": {},
   "source": [
    "### 2. Set Chrome Driver Options"
   ]
  },
  {
   "cell_type": "code",
   "execution_count": 3,
   "id": "72af9ac1",
   "metadata": {},
   "outputs": [],
   "source": [
    "options = webdriver.ChromeOptions()\n",
    "#options.add_argument('headless') # Don't show Chrome Driver Working\n",
    "options.add_argument(\"disable-gpu\")\n",
    "options.add_argument(\"lang=ko_KR\") # Language is Korean\n",
    "options.add_argument(\"user-agent=Mozilla/5.0 (Macintosh; Intel Mac OS X 10_12_6) AppleWebKit/537.36 (KHTML, like Gecko) Chrome/61.0.3163.100 Safari/537.36\") # Visit Website like a human\n",
    "options.add_experimental_option(\"prefs\", {\n",
    "  \"download.default_directory\": r\"D:\\KIPRIS_RawData(2022.11.20)\", # Where to download raw PDF files(very large files.. Recommend set D-drive which have N-TB)\n",
    "  \"download.prompt_for_download\": False,\n",
    "  \"download.directory_upgrade\": True,\n",
    "  \"safebrowsing.enabled\": True\n",
    "})"
   ]
  },
  {
   "cell_type": "code",
   "execution_count": 4,
   "id": "eaf60e0a",
   "metadata": {
    "scrolled": true
   },
   "outputs": [
    {
     "name": "stderr",
     "output_type": "stream",
     "text": [
      "C:\\Users\\tkdals\\AppData\\Local\\Temp\\ipykernel_23156\\817290157.py:3: DeprecationWarning: executable_path has been deprecated, please pass in a Service object\n",
      "  driver = webdriver.Chrome(r'C:\\Users\\tkdals\\OneDrive - Sogang\\TechnologyFinancingDataCleansing\\ChromeDriver\\chromedriver.exe', chrome_options=options)\n",
      "C:\\Users\\tkdals\\AppData\\Local\\Temp\\ipykernel_23156\\817290157.py:3: DeprecationWarning: use options instead of chrome_options\n",
      "  driver = webdriver.Chrome(r'C:\\Users\\tkdals\\OneDrive - Sogang\\TechnologyFinancingDataCleansing\\ChromeDriver\\chromedriver.exe', chrome_options=options)\n"
     ]
    }
   ],
   "source": [
    "# 크롬 드라이버 열기\n",
    "#driver = webdriver.Chrome(r'C:\\Users\\tkdal\\Dropbox\\기술금융\\키프리스 크롤링\\chromedriver.exe', chrome_options=options) # 노트북 경로\n",
    "driver = webdriver.Chrome(r'C:\\Users\\tkdals\\OneDrive - Sogang\\TechnologyFinancingDataCleansing\\ChromeDriver\\chromedriver.exe', chrome_options=options)\n",
    "#driver = webdriver.Chrome(r'C:\\Users\\pc조교\\Desktop\\pypr\\chromedriver.exe', chrome_options=options) # 연구실 경로"
   ]
  },
  {
   "cell_type": "markdown",
   "id": "879061fd",
   "metadata": {},
   "source": [
    "### 3. Enter KIPRIS web page & Set patent search criteria<br>\n",
    "### __Code Reference__<br>\n",
    "Crawling Target: http://kportal.kipris.or.kr/kportal/search/search_patent.do<br>\n",
    "Selenium Basic Usage: https://workingwithpython.com/howtouseselenium-2/<br>\n",
    "Properties of selenium elements: https://minorman.tistory.com/113<br>\n",
    "Change Active Tabs: https://devyurim.github.io/python/crawler/2018/08/13/crawler-3.html<br>\n",
    "Xpath: https://wkdtjsgur100.github.io/selenium-xpath/<br>\n",
    "By method description: https://blog.daum.net/sualchi/13721870"
   ]
  },
  {
   "cell_type": "code",
   "execution_count": 5,
   "id": "ca9cf478",
   "metadata": {},
   "outputs": [],
   "source": [
    "# Enter KIPRIS\n",
    "driver.get('http://kpat.kipris.or.kr/kpat/searchLogina.do?next=MainSearch')"
   ]
  },
  {
   "cell_type": "code",
   "execution_count": 6,
   "id": "7177366e",
   "metadata": {},
   "outputs": [],
   "source": [
    "# Clear all text in the search box\n",
    "# 검색창에 글씨 있으면 다 지우고\n",
    "driver.find_element(By.NAME, 'queryText').clear()"
   ]
  },
  {
   "cell_type": "code",
   "execution_count": 7,
   "id": "6733bbb6",
   "metadata": {},
   "outputs": [],
   "source": [
    "# Enter 'Display' in the search box.\n",
    "# 검색창에 디스플레이를 입력한다.\n",
    "driver.find_element(By.NAME, 'queryText').send_keys('디스플레이')"
   ]
  },
  {
   "cell_type": "code",
   "execution_count": 8,
   "id": "ffb37f72",
   "metadata": {},
   "outputs": [],
   "source": [
    "# 좌측 행정상태 전부 해제\n",
    "xpath_button = '//*[@id=\"leftHangjung00\"]'\n",
    "driver.find_element(By.XPATH, xpath_button).click()"
   ]
  },
  {
   "cell_type": "code",
   "execution_count": 9,
   "id": "ac9145ba",
   "metadata": {},
   "outputs": [],
   "source": [
    "# 필요한 행정상태만 체크\n",
    "xpath_button = '//*[@id=\"leftHangjung01\"]' # 공개\n",
    "driver.find_element(By.XPATH, xpath_button).click()\n",
    "xpath_button = '//*[@id=\"leftHangjung03\"]' # 소멸\n",
    "driver.find_element(By.XPATH, xpath_button).click()\n",
    "xpath_button = '//*[@id=\"leftHangjung07\"]' # 등록\n",
    "driver.find_element(By.XPATH, xpath_button).click()"
   ]
  },
  {
   "cell_type": "code",
   "execution_count": 10,
   "id": "b116d2a3",
   "metadata": {},
   "outputs": [],
   "source": [
    "# 불필요한 권리 종류인 '실용' 체크 해제\n",
    "xpath_button = '//*[@id=\"leftGubn01\"]' # 특허, 실용 중 실용은 필요없으므로 해제 대상\n",
    "driver.find_element(By.XPATH, xpath_button).click()"
   ]
  },
  {
   "cell_type": "code",
   "execution_count": 11,
   "id": "d6facdfb",
   "metadata": {},
   "outputs": [],
   "source": [
    "# 검색 버튼 클릭하기기\n",
    "xpath_button = '//*[@id=\"SearchPara\"]/fieldset/span[1]/a/img' # 검색 버튼 xpath 추출\n",
    "driver.find_element(By.XPATH, xpath_button).click()"
   ]
  },
  {
   "cell_type": "code",
   "execution_count": 12,
   "id": "face1ea5",
   "metadata": {},
   "outputs": [],
   "source": [
    "# 드롭다운 버튼 중에서 선택\n",
    "select = Select(driver.find_element(By.ID, 'opt28')) # 페이지당 보여지는 검색결과 갯수 선택\n",
    "select.select_by_value(\"90\") # 최대 개수인 90개를 한 페이지에 보이게 하자"
   ]
  },
  {
   "cell_type": "code",
   "execution_count": 13,
   "id": "00729b37",
   "metadata": {},
   "outputs": [],
   "source": [
    "# 90개 보이기 버튼 클릭\n",
    "xpath_button = '//*[@id=\"pageSel\"]/a/img' # 90개 리스트 보여주기 go 버튼 클릭\n",
    "driver.find_element(By.XPATH, xpath_button).click()"
   ]
  },
  {
   "cell_type": "code",
   "execution_count": 17,
   "id": "c4698adb",
   "metadata": {},
   "outputs": [
    {
     "ename": "ElementClickInterceptedException",
     "evalue": "Message: element click intercepted: Element <img src=\"/kpat/images/common/btn_category.gif\" alt=\"검색결과 분류통계\"> is not clickable at point (450, 742). Other element would receive the click: <div id=\"PIContents\" style=\"\">...</div>\n  (Session info: chrome=107.0.5304.107)\nStacktrace:\nBacktrace:\n\tOrdinal0 [0x0026ACD3+2075859]\n\tOrdinal0 [0x001FEE61+1633889]\n\tOrdinal0 [0x000FB7BD+571325]\n\tOrdinal0 [0x00131499+791705]\n\tOrdinal0 [0x0012F4AC+783532]\n\tOrdinal0 [0x0012D0AB+774315]\n\tOrdinal0 [0x0012BD37+769335]\n\tOrdinal0 [0x00121C76+728182]\n\tOrdinal0 [0x0014731C+881436]\n\tOrdinal0 [0x001215BF+726463]\n\tOrdinal0 [0x00147534+881972]\n\tOrdinal0 [0x0015B56A+963946]\n\tOrdinal0 [0x00147136+880950]\n\tOrdinal0 [0x0011FEFD+720637]\n\tOrdinal0 [0x00120F3F+724799]\n\tGetHandleVerifier [0x0051EED2+2769538]\n\tGetHandleVerifier [0x00510D95+2711877]\n\tGetHandleVerifier [0x002FA03A+521194]\n\tGetHandleVerifier [0x002F8DA0+516432]\n\tOrdinal0 [0x0020682C+1665068]\n\tOrdinal0 [0x0020B128+1683752]\n\tOrdinal0 [0x0020B215+1683989]\n\tOrdinal0 [0x00216484+1729668]\n\tBaseThreadInitThunk [0x75F57BA9+25]\n\tRtlInitializeExceptionChain [0x7794BB9B+107]\n\tRtlClearBits [0x7794BB1F+191]\n\t(No symbol) [0x00000000]\n",
     "output_type": "error",
     "traceback": [
      "\u001b[1;31m---------------------------------------------------------------------------\u001b[0m",
      "\u001b[1;31mElementClickInterceptedException\u001b[0m          Traceback (most recent call last)",
      "\u001b[1;32mc:\\Users\\tkdals\\OneDrive - Sogang\\TechnologyFinancingDataCleansing\\KIPRIS_WebScraping.ipynb 셀 20\u001b[0m in \u001b[0;36m<cell line: 3>\u001b[1;34m()\u001b[0m\n\u001b[0;32m      <a href='vscode-notebook-cell:/c%3A/Users/tkdals/OneDrive%20-%20Sogang/TechnologyFinancingDataCleansing/KIPRIS_WebScraping.ipynb#X25sZmlsZQ%3D%3D?line=0'>1</a>\u001b[0m \u001b[39m# 2005년 특허만\u001b[39;00m\n\u001b[0;32m      <a href='vscode-notebook-cell:/c%3A/Users/tkdals/OneDrive%20-%20Sogang/TechnologyFinancingDataCleansing/KIPRIS_WebScraping.ipynb#X25sZmlsZQ%3D%3D?line=1'>2</a>\u001b[0m xpath_button \u001b[39m=\u001b[39m \u001b[39m'\u001b[39m\u001b[39m//*[@id=\u001b[39m\u001b[39m\"\u001b[39m\u001b[39msnavigation\u001b[39m\u001b[39m\"\u001b[39m\u001b[39m]/ul/li[2]/button/img\u001b[39m\u001b[39m'\u001b[39m \u001b[39m# 검색결과 분류통계\u001b[39;00m\n\u001b[1;32m----> <a href='vscode-notebook-cell:/c%3A/Users/tkdals/OneDrive%20-%20Sogang/TechnologyFinancingDataCleansing/KIPRIS_WebScraping.ipynb#X25sZmlsZQ%3D%3D?line=2'>3</a>\u001b[0m driver\u001b[39m.\u001b[39;49mfind_element(By\u001b[39m.\u001b[39;49mXPATH, xpath_button)\u001b[39m.\u001b[39;49mclick()\n",
      "File \u001b[1;32mc:\\Users\\tkdals\\Anaconda3\\lib\\site-packages\\selenium\\webdriver\\remote\\webelement.py:88\u001b[0m, in \u001b[0;36mWebElement.click\u001b[1;34m(self)\u001b[0m\n\u001b[0;32m     86\u001b[0m \u001b[39mdef\u001b[39;00m \u001b[39mclick\u001b[39m(\u001b[39mself\u001b[39m) \u001b[39m-\u001b[39m\u001b[39m>\u001b[39m \u001b[39mNone\u001b[39;00m:\n\u001b[0;32m     87\u001b[0m     \u001b[39m\"\"\"Clicks the element.\"\"\"\u001b[39;00m\n\u001b[1;32m---> 88\u001b[0m     \u001b[39mself\u001b[39;49m\u001b[39m.\u001b[39;49m_execute(Command\u001b[39m.\u001b[39;49mCLICK_ELEMENT)\n",
      "File \u001b[1;32mc:\\Users\\tkdals\\Anaconda3\\lib\\site-packages\\selenium\\webdriver\\remote\\webelement.py:396\u001b[0m, in \u001b[0;36mWebElement._execute\u001b[1;34m(self, command, params)\u001b[0m\n\u001b[0;32m    394\u001b[0m     params \u001b[39m=\u001b[39m {}\n\u001b[0;32m    395\u001b[0m params[\u001b[39m'\u001b[39m\u001b[39mid\u001b[39m\u001b[39m'\u001b[39m] \u001b[39m=\u001b[39m \u001b[39mself\u001b[39m\u001b[39m.\u001b[39m_id\n\u001b[1;32m--> 396\u001b[0m \u001b[39mreturn\u001b[39;00m \u001b[39mself\u001b[39;49m\u001b[39m.\u001b[39;49m_parent\u001b[39m.\u001b[39;49mexecute(command, params)\n",
      "File \u001b[1;32mc:\\Users\\tkdals\\Anaconda3\\lib\\site-packages\\selenium\\webdriver\\remote\\webdriver.py:428\u001b[0m, in \u001b[0;36mWebDriver.execute\u001b[1;34m(self, driver_command, params)\u001b[0m\n\u001b[0;32m    426\u001b[0m response \u001b[39m=\u001b[39m \u001b[39mself\u001b[39m\u001b[39m.\u001b[39mcommand_executor\u001b[39m.\u001b[39mexecute(driver_command, params)\n\u001b[0;32m    427\u001b[0m \u001b[39mif\u001b[39;00m response:\n\u001b[1;32m--> 428\u001b[0m     \u001b[39mself\u001b[39;49m\u001b[39m.\u001b[39;49merror_handler\u001b[39m.\u001b[39;49mcheck_response(response)\n\u001b[0;32m    429\u001b[0m     response[\u001b[39m'\u001b[39m\u001b[39mvalue\u001b[39m\u001b[39m'\u001b[39m] \u001b[39m=\u001b[39m \u001b[39mself\u001b[39m\u001b[39m.\u001b[39m_unwrap_value(\n\u001b[0;32m    430\u001b[0m         response\u001b[39m.\u001b[39mget(\u001b[39m'\u001b[39m\u001b[39mvalue\u001b[39m\u001b[39m'\u001b[39m, \u001b[39mNone\u001b[39;00m))\n\u001b[0;32m    431\u001b[0m     \u001b[39mreturn\u001b[39;00m response\n",
      "File \u001b[1;32mc:\\Users\\tkdals\\Anaconda3\\lib\\site-packages\\selenium\\webdriver\\remote\\errorhandler.py:243\u001b[0m, in \u001b[0;36mErrorHandler.check_response\u001b[1;34m(self, response)\u001b[0m\n\u001b[0;32m    241\u001b[0m         alert_text \u001b[39m=\u001b[39m value[\u001b[39m'\u001b[39m\u001b[39malert\u001b[39m\u001b[39m'\u001b[39m]\u001b[39m.\u001b[39mget(\u001b[39m'\u001b[39m\u001b[39mtext\u001b[39m\u001b[39m'\u001b[39m)\n\u001b[0;32m    242\u001b[0m     \u001b[39mraise\u001b[39;00m exception_class(message, screen, stacktrace, alert_text)  \u001b[39m# type: ignore[call-arg]  # mypy is not smart enough here\u001b[39;00m\n\u001b[1;32m--> 243\u001b[0m \u001b[39mraise\u001b[39;00m exception_class(message, screen, stacktrace)\n",
      "\u001b[1;31mElementClickInterceptedException\u001b[0m: Message: element click intercepted: Element <img src=\"/kpat/images/common/btn_category.gif\" alt=\"검색결과 분류통계\"> is not clickable at point (450, 742). Other element would receive the click: <div id=\"PIContents\" style=\"\">...</div>\n  (Session info: chrome=107.0.5304.107)\nStacktrace:\nBacktrace:\n\tOrdinal0 [0x0026ACD3+2075859]\n\tOrdinal0 [0x001FEE61+1633889]\n\tOrdinal0 [0x000FB7BD+571325]\n\tOrdinal0 [0x00131499+791705]\n\tOrdinal0 [0x0012F4AC+783532]\n\tOrdinal0 [0x0012D0AB+774315]\n\tOrdinal0 [0x0012BD37+769335]\n\tOrdinal0 [0x00121C76+728182]\n\tOrdinal0 [0x0014731C+881436]\n\tOrdinal0 [0x001215BF+726463]\n\tOrdinal0 [0x00147534+881972]\n\tOrdinal0 [0x0015B56A+963946]\n\tOrdinal0 [0x00147136+880950]\n\tOrdinal0 [0x0011FEFD+720637]\n\tOrdinal0 [0x00120F3F+724799]\n\tGetHandleVerifier [0x0051EED2+2769538]\n\tGetHandleVerifier [0x00510D95+2711877]\n\tGetHandleVerifier [0x002FA03A+521194]\n\tGetHandleVerifier [0x002F8DA0+516432]\n\tOrdinal0 [0x0020682C+1665068]\n\tOrdinal0 [0x0020B128+1683752]\n\tOrdinal0 [0x0020B215+1683989]\n\tOrdinal0 [0x00216484+1729668]\n\tBaseThreadInitThunk [0x75F57BA9+25]\n\tRtlInitializeExceptionChain [0x7794BB9B+107]\n\tRtlClearBits [0x7794BB1F+191]\n\t(No symbol) [0x00000000]\n"
     ]
    }
   ],
   "source": [
    "# 2005년 특허만\n",
    "xpath_button = '//*[@id=\"snavigation\"]/ul/li[2]/button/img' # 검색결과 분류통계\n",
    "driver.find_element(By.XPATH, xpath_button).click()"
   ]
  },
  {
   "cell_type": "code",
   "execution_count": 18,
   "id": "bdc670bf",
   "metadata": {},
   "outputs": [],
   "source": [
    "time.sleep(0.5)\n",
    "xpath_button = '//*[@id=\"CategoryList_1\"]/li[10]/button' # 2005년\n",
    "driver.find_element(By.XPATH, xpath_button).click()"
   ]
  },
  {
   "cell_type": "code",
   "execution_count": 19,
   "id": "f78d9277",
   "metadata": {},
   "outputs": [
    {
     "name": "stdout",
     "output_type": "stream",
     "text": [
      "조건에 맞는 총 특허 개수:  20770\n"
     ]
    }
   ],
   "source": [
    "# 지금까지 설정한 조건들로 검색된 특허 개수 확인\n",
    "total_patent_number = int(driver.find_element(By.CLASS_NAME, 'total').text.replace(\",\",\"\"))\n",
    "print(\"조건에 맞는 총 특허 개수: \", total_patent_number)"
   ]
  },
  {
   "cell_type": "code",
   "execution_count": 20,
   "id": "6607866f",
   "metadata": {},
   "outputs": [
    {
     "name": "stdout",
     "output_type": "stream",
     "text": [
      "디스플레이 검색어 총 페이지 수(페이지당 90개 노출):  231\n"
     ]
    }
   ],
   "source": [
    "xpath_total_page_number = '/html/body/div[2]/div/section[3]/section/div[2]/form/section/div[1]/p'\n",
    "total_page_number = int(driver.find_element(By.XPATH, xpath_total_page_number).text.split(\"/ \")[1].split(\" Pages\")[0].replace(\",\",\"\"))\n",
    "print(\"디스플레이 검색어 총 페이지 수(페이지당 90개 노출): \", total_page_number)"
   ]
  },
  {
   "cell_type": "markdown",
   "id": "24051852",
   "metadata": {},
   "source": [
    "### 4. Open a tab containing patent information"
   ]
  },
  {
   "cell_type": "code",
   "execution_count": 21,
   "id": "3bdf8b25",
   "metadata": {},
   "outputs": [],
   "source": [
    "# 첫번째 특허 눌러서 탭 연다.\n",
    "first = '/html/body/div[2]/div/section[3]/section/div[2]/form/section/article[1]/div[1]/h1/a[2]'\n",
    "driver.find_element(By.XPATH, first).click()"
   ]
  },
  {
   "cell_type": "code",
   "execution_count": 22,
   "id": "a6fef6f6",
   "metadata": {},
   "outputs": [],
   "source": [
    "# Switch the selenium work window to the Patent Information tab\n",
    "driver.switch_to.window(driver.window_handles[1]) # Switch to an open window which is opend later"
   ]
  },
  {
   "cell_type": "code",
   "execution_count": 23,
   "id": "f68af9b9",
   "metadata": {},
   "outputs": [],
   "source": [
    "def go_to_next(page) :\n",
    "    while 1 :\n",
    "        time.sleep(1)\n",
    "        tab_current_page = int(driver.find_element(By.TAG_NAME,\"strong\").text) # 새탭에서 현재 페이지\n",
    "        try :\n",
    "            time.sleep(1)\n",
    "            if tab_current_page == page : # 원하는 페이지 입력(단, 5로 나눴을 때 나머지가 반드시 1이어야 함)\n",
    "                break\n",
    "            else :\n",
    "                driver.find_element(By.CSS_SELECTOR, '#divBiblioLeft > div.board_pager02 > a.next').click()  \n",
    "                \n",
    "        except :\n",
    "            print('실패. 재시도 중')\n",
    "            time.sleep(5)\n",
    "            go_to_next(page)\n"
   ]
  },
  {
   "cell_type": "code",
   "execution_count": 24,
   "id": "a3f84463",
   "metadata": {},
   "outputs": [],
   "source": [
    "# 다음 버튼 처음 1번은 수동으로 눌러줘야 작동됨 ㅠ\n",
    "#go_to_next(1)"
   ]
  },
  {
   "cell_type": "code",
   "execution_count": 25,
   "id": "66ed6b81",
   "metadata": {},
   "outputs": [
    {
     "data": {
      "text/plain": [
       "1"
      ]
     },
     "execution_count": 25,
     "metadata": {},
     "output_type": "execute_result"
    }
   ],
   "source": [
    "# 현재 페이지 확인\n",
    "tab_current_page = int(driver.find_element(By.TAG_NAME,\"strong\").text) # 새탭에서 현재 페이지\n",
    "tab_current_page"
   ]
  },
  {
   "cell_type": "markdown",
   "id": "247c4120",
   "metadata": {},
   "source": [
    "### 5. Download patent PDF & generate patent information CSV"
   ]
  },
  {
   "cell_type": "code",
   "execution_count": 28,
   "id": "67e6682d",
   "metadata": {},
   "outputs": [],
   "source": [
    "# iframe 나오기\n",
    "driver.switch_to.default_content()"
   ]
  },
  {
   "cell_type": "code",
   "execution_count": 29,
   "id": "d293ce55",
   "metadata": {},
   "outputs": [],
   "source": [
    "# iframe 들어가기\n",
    "#content = driver.find_element(By.TAG_NAME,\"iframe\")\n",
    "#driver.switch_to.frame(content) # iframe 안으로 들어간다."
   ]
  },
  {
   "cell_type": "code",
   "execution_count": 30,
   "id": "215e06dd",
   "metadata": {},
   "outputs": [],
   "source": [
    "tab_current_page = int(driver.find_element(By.TAG_NAME,\"strong\").text) # 새탭에서 현재 페이지"
   ]
  },
  {
   "cell_type": "code",
   "execution_count": 31,
   "id": "1e09e8d9",
   "metadata": {},
   "outputs": [],
   "source": [
    "#driver.switch_to.window(driver.window_handles[1]) # 새탭으로 창전환"
   ]
  },
  {
   "cell_type": "code",
   "execution_count": 32,
   "id": "baa024a5",
   "metadata": {},
   "outputs": [
    {
     "name": "stdout",
     "output_type": "stream",
     "text": [
      "시작페이지 재확인:  1\n"
     ]
    }
   ],
   "source": [
    "start_page = tab_current_page # 고정된 시작페이지\n",
    "print(\"시작페이지 재확인: \", start_page)\n",
    "\n",
    "patent_link = []\n",
    "error_patent_link = []"
   ]
  },
  {
   "cell_type": "code",
   "execution_count": 33,
   "id": "801426cb",
   "metadata": {},
   "outputs": [],
   "source": [
    "# 변경하는 코드\n",
    "\n",
    "def collect_patent(start_page, end_page) :\n",
    "\n",
    "    #for page in trange(1, 5) :\n",
    "    #for page in trange(1, total_page_number) :\n",
    "    for page in trange(start_page, end_page+1) : \n",
    "        time.sleep(5)\n",
    "        tab_current_page = int(driver.find_element(By.TAG_NAME,\"strong\").text) # 새탭에서 현재 페이지\n",
    "\n",
    "        for article in range(1, 91) : # 한 페이지 내의 1~90번째 특허를 보면서\n",
    "            \n",
    "            # 변수 초기화\n",
    "            PatentName_Kor='';PatentName_Eng='';IPC='';CPC='';\n",
    "            Application_No='';Application_Date='';Applicant='';Public_No='';\n",
    "            Public_Date='';Legal_State='';Category='';Claim_Count=''; Family_Count = '';\n",
    "            Expiration_Date=''; Summary_Text=''; Claim_Text='';\n",
    "\n",
    "            where_error=''\n",
    "            try :                \n",
    "                xpath_patent = '/html/body/div[1]/section/div/div[2]/div/ul/li[%d]/a' %article # 특허 순서대로 선택하기\n",
    "                driver.find_element(By.XPATH, xpath_patent).click()\n",
    "                time.sleep(1)\n",
    "                \n",
    "                where_error='PatentName'\n",
    "                PatentName_Kor = driver.find_element(By.XPATH, '/html/body/div[1]/div/div/section[1]/div/h1/span[1]').text\n",
    "                PatentName_Eng = driver.find_element(By.XPATH, '/html/body/div[1]/div/div/section[1]/div/h1/span[2]').text              \n",
    "                    \n",
    "                content = driver.find_element(By.TAG_NAME,\"iframe\")\n",
    "                driver.switch_to.frame(content) # iframe 안으로 들어간다.\n",
    "                \n",
    "                tmNews = driver.find_element(By.CLASS_NAME, 'detial_plan_info')\n",
    "                tmNewsLis = tmNews.find_elements(By.TAG_NAME, 'li') # div 내에서 li 리스트 검색\n",
    "\n",
    "                where_error='서지정보내부'                          \n",
    "                for li in tmNewsLis :\n",
    "                    \n",
    "                    if  li.text[:12] == '(51) Int. CL' :\n",
    "                        try : IPC = li.text.split('(51) Int. CL')[1]\n",
    "                        except : continue\n",
    "                    elif  li.text[:8] == '(52) CPC' :\n",
    "                        try : CPC = li.text.split('(52) CPC')[1]\n",
    "                        except : continue\n",
    "                    elif  li.text[:16] == '(21) 출원번호/일자(국제)' :\n",
    "                        try :\n",
    "                            Application_No = li.text.split('(21) 출원번호/일자(국제) ')[1].split(\" \")[0]\n",
    "                            Application_Date = li.text.split('(21) 출원번호/일자(국제) ')[1].split(\" \")[1][1:-1]\n",
    "                        except : continue\n",
    "                    elif  li.text[:13] == '(21) 출원번호/일자 ' :\n",
    "                        try :\n",
    "                            Application_No = li.text.split('(21) 출원번호/일자 ')[1].split(\" \")[0]\n",
    "                            Application_Date = li.text.split('(21) 출원번호/일자 ')[1].split(\" \")[1][1:-1]\n",
    "                        except : continue                                                \n",
    "                    elif  li.text[:8] == '(71) 출원인' :\n",
    "                        try : Applicant = li.text.split('(71) 출원인 ')[1]\n",
    "                        except : continue\n",
    "                    elif li.text[:8] == '번역문제출일자 ':\n",
    "                        try : translation_issue_date = li.text.split('번역문제출일자 ')[1][1:-1]\n",
    "                        except : continue\n",
    "                    elif li.text[:12] == '(65) 공개번호/일자' :\n",
    "                        try:\n",
    "                            Public_No = li.text.split('(65) 공개번호/일자 ')[1].split(\" \")[0]\n",
    "                            Public_Date = li.text.split('(65) 공개번호/일자 ')[1].split(\" \")[1][1:-1]\n",
    "                        except : continue\n",
    "                    elif li.text[:5] == '법적상태 ' :\n",
    "                        try : Legal_State = li.text.split('법적상태 ')[1]\n",
    "                        except : continue\n",
    "                    elif li.text[:6] == '심사청구항수' :\n",
    "                        try: \n",
    "                            Claim_Count = li.text.split('심사청구항수 ')[1]\n",
    "                        except : continue\n",
    "                    elif li.text[:3] == '구분 ' :\n",
    "                        try : Category = li.text.split('구분 ')[1]\n",
    "                        except : continue                              \n",
    "                where_error='요약문 텍스트'\n",
    "                Summary_Text=driver.find_element(By.XPATH, '//*[@id=\"abstract_box\"]/summary').text \n",
    "                # pdf 다운로드\n",
    "                #pdfDownload = driver.find_element(By.CLASS_NAME, 'right_align')\n",
    "                #pdfDownload2 = pdfDownload.find_element(By.TAG_NAME,\"a\")\n",
    "                #pdfDownload2.click()\n",
    "                time.sleep(1)   \n",
    "                driver.switch_to.default_content() # iframe에서 나온다. 이거 무조건 해줘야 한다.   \n",
    "\n",
    "\n",
    "                # 이제 청구항 텍스트 받으러 갈 거다.\n",
    "                where_error='청구항 텍스트'\n",
    "                driver.find_element(By.XPATH, '//*[@id=\"liViewSub04\"]/a').click() # 상세정보 中 청구항 클릭\n",
    "\n",
    "                content = driver.find_element(By.TAG_NAME,\"iframe\")\n",
    "                driver.switch_to.frame(content) # iframe 안으로 들어간다.\n",
    "\n",
    "                tBody= driver.find_element(By.CLASS_NAME, 'tstyle_list')\n",
    "                trLis = tBody.find_elements(By.TAG_NAME, 'tr') # tBody 내에서 lr 리스트 검색\n",
    "                \n",
    "                for i in range(1,len(trLis)) :\n",
    "                    if trLis[i].text[1:].replace(\" \", \"\")=='삭제' :\n",
    "                        continue\n",
    "                    Claim_Text = Claim_Text + trLis[i].text[1:].replace(\"\\n\", \"\")\n",
    "\n",
    "                driver.switch_to.default_content() # iframe에서 나온다. 이거 무조건 해줘야 한다. \n",
    "                time.sleep(1)\n",
    "\n",
    "\n",
    "                where_error='패밀리 개수'\n",
    "                # 이제 패밀리 개수 받으러 갈거야\n",
    "                driver.find_element(By.XPATH, '/html/body/div[1]/div/div/section[1]/div/ul/li[1]/ul/li[7]/a').click()\n",
    "                \n",
    "                content = driver.find_element(By.TAG_NAME,\"iframe\")\n",
    "                driver.switch_to.frame(content) # iframe 안으로 들어간다.\n",
    "             \n",
    "                tBody= driver.find_element(By.CLASS_NAME, 'tstyle_list')\n",
    "                trLis = tBody.find_elements(By.TAG_NAME, 'tr') # tBody 내에서 lr 리스트 검색\n",
    "                try:\n",
    "                    if trLis[1].text == '데이터가 존재하지 않습니다.' : # 이렇게 떠 있으면 Family 개수 0\n",
    "                        Family_Count = 0\n",
    "                    else :\n",
    "                        Family_Count = len(trLis)-1 # 1개 이상 있으면 이 규칙으로 패밀리 개수 Count\n",
    "                except:\n",
    "                    Family_Count = 0 # 데이터가 존재하지 않는다는 문구도 없을 수도 있다.\n",
    "\n",
    "                driver.switch_to.default_content()\n",
    "                time.sleep(1)\n",
    "                \n",
    "                \n",
    "                # 소멸한 특허면 등록사항에 소멸일자 받으러 갈 거야\n",
    "                where_error='등록사항'\n",
    "                if Legal_State[:2] == '소멸' :      \n",
    "                    driver.find_element(By.CSS_SELECTOR, '#liView07 > a').click()   \n",
    "                    time.sleep(0.5)\n",
    "\n",
    "                    content = driver.find_element(By.TAG_NAME,\"iframe\")\n",
    "                    driver.switch_to.frame(content) # iframe 안으로 들어간다.\n",
    "                    \n",
    "                    time.sleep(0.5)\n",
    "\n",
    "                    tBody= driver.find_element(By.XPATH, '/html/body/table[1]')\n",
    "                    trLis = tBody.find_elements(By.TAG_NAME, 'tr') # tBody 내에서 tr 리스트 검색\n",
    "                    \n",
    "                    time.sleep(0.5)\n",
    "\n",
    "                    for tr in trLis :\n",
    "                        if tr.text[:6] == '등록원인일자' :\n",
    "                            try : Expiration_Date = tr.text.split(\"등록원인일자 : \")[1].split(\" 등 록\")[0]\n",
    "                            except : continue                    \n",
    "                                  \n",
    "                    driver.switch_to.default_content()\n",
    "                    time.sleep(1)\n",
    "                    \n",
    "                    \n",
    "                                              \n",
    "                patent_info = {\n",
    "                    #'Page_No' : tab_current_page,\n",
    "                    'Application_No' : Application_No,\n",
    "                    'Application_Date' : Application_Date,\n",
    "                    'Applicant' : Applicant,\n",
    "                    'Legal_State' : Legal_State,\n",
    "                    'PatentName_Kor' : PatentName_Kor,\n",
    "                    'PatentName_Eng' : PatentName_Eng,\n",
    "                    'IPC' : IPC,\n",
    "                    'CPC' : CPC, \n",
    "                    #'Public_No' : Public_No,\n",
    "                    #'Public_Date' : Public_Date,\n",
    "                    #'Category' : Category,\n",
    "                    'Claim_Count' : Claim_Count,\n",
    "                    'Family_Count' : Family_Count,\n",
    "                    'Expiration_Date' : Expiration_Date,\n",
    "                    'Summary_Text' : Summary_Text,\n",
    "                    'Claim_Text' : Claim_Text\n",
    "                }\n",
    "                patent_link.append(patent_info)        \n",
    "\n",
    "                \n",
    "            except :\n",
    "                print('에러발생! 페이지, 출원번호, 에러발생요소: ',tab_current_page, Application_No, where_error)\n",
    "                driver.switch_to.window(driver.window_handles[-1])\n",
    "                \n",
    "                error_patent_info = {\n",
    "                    'Page_No' : tab_current_page,\n",
    "                    'Application_No' : Application_No,\n",
    "                    'WhereError' :where_error\n",
    "                }\n",
    "                error_patent_link.append(error_patent_info)\n",
    "                continue\n",
    "    \n",
    "        if tab_current_page == end_page : # end_page는 5의 배수니까 \n",
    "            time.sleep(7)\n",
    "            driver.find_element(By.CSS_SELECTOR, '#divBiblioLeft > div.board_pager02 > a.next').click()\n",
    "            tab_current_page = int(driver.find_element(By.TAG_NAME,\"strong\").text) # 새탭에서 현재 페이지\n",
    "            print(\"스크래핑 종료\")\n",
    "            break                     \n",
    "        elif (tab_current_page % 5) == 1 :\n",
    "            time.sleep(7)\n",
    "            #driver.find_element(By.CSS_SELECTOR, '#divBiblioLeft > div.board_pager02 > a:nth-child(3)').click()\n",
    "            driver.find_element(By.CSS_SELECTOR, '#divBiblioLeft > div.board_pager02 > a:nth-child(3)').send_keys(Keys.ENTER)\n",
    "        elif (tab_current_page % 5) == 2 :\n",
    "            time.sleep(7)\n",
    "            #driver.find_element(By.CSS_SELECTOR, '#divBiblioLeft > div.board_pager02 > a:nth-child(4)').click() \n",
    "            driver.find_element(By.CSS_SELECTOR, '#divBiblioLeft > div.board_pager02 > a:nth-child(4)').send_keys(Keys.ENTER)\n",
    "        elif (tab_current_page % 5) == 3 :\n",
    "            time.sleep(7)\n",
    "            #driver.find_element(By.CSS_SELECTOR, '#divBiblioLeft > div.board_pager02 > a:nth-child(5)').click()\n",
    "            driver.find_element(By.CSS_SELECTOR, '#divBiblioLeft > div.board_pager02 > a:nth-child(5)').send_keys(Keys.ENTER)\n",
    "        elif (tab_current_page % 5) == 4 :\n",
    "            time.sleep(7)\n",
    "            #driver.find_element(By.CSS_SELECTOR, '#divBiblioLeft > div.board_pager02 > a:nth-child(6)').click() \n",
    "            driver.find_element(By.CSS_SELECTOR, '#divBiblioLeft > div.board_pager02 > a:nth-child(6)').send_keys(Keys.ENTER) \n",
    "        elif (tab_current_page % 5) == 0 :\n",
    "            time.sleep(7)\n",
    "            #driver.find_element(By.CSS_SELECTOR, '#divBiblioLeft > div.board_pager02 > a.next').click()   \n",
    "            try : driver.find_element(By.CSS_SELECTOR, '#divBiblioLeft > div.board_pager02 > a.next').send_keys(Keys.ENTER)     \n",
    "            except :        \n",
    "                time.sleep(20)\n",
    "                driver.find_element(By.CSS_SELECTOR, '#divBiblioLeft > div.board_pager02 > a.next').send_keys(Keys.ENTER) \n",
    "\n",
    "    df = pd.DataFrame(patent_link)\n",
    "    df.to_csv('Normal(%d_%d).csv'%(start_page, end_page), index=False, encoding='utf-8')\n",
    "    error_df = pd.DataFrame(error_patent_link)\n",
    "    error_df.to_csv('Error(%d_%d).csv'%(start_page, end_page), index=False, encoding='utf-8')"
   ]
  },
  {
   "cell_type": "code",
   "execution_count": 36,
   "id": "0722d40a",
   "metadata": {},
   "outputs": [
    {
     "data": {
      "text/plain": [
       "6"
      ]
     },
     "execution_count": 36,
     "metadata": {},
     "output_type": "execute_result"
    }
   ],
   "source": [
    "tab_current_page = int(driver.find_element(By.TAG_NAME,\"strong\").text) # 새탭에서 현재 페이지\n",
    "tab_current_page"
   ]
  },
  {
   "cell_type": "code",
   "execution_count": 37,
   "id": "22f5778b",
   "metadata": {
    "scrolled": true
   },
   "outputs": [
    {
     "name": "stderr",
     "output_type": "stream",
     "text": [
      "  1%|          | 2/226 [24:35<45:53:45, 737.62s/it]"
     ]
    },
    {
     "name": "stdout",
     "output_type": "stream",
     "text": [
      "에러발생! 페이지, 출원번호, 에러발생요소:  8 1020050002430 요약문 텍스트\n"
     ]
    },
    {
     "name": "stderr",
     "output_type": "stream",
     "text": [
      "  2%|▏         | 4/226 [48:43<44:57:03, 728.93s/it]"
     ]
    },
    {
     "name": "stdout",
     "output_type": "stream",
     "text": [
      "에러발생! 페이지, 출원번호, 에러발생요소:  10 1020050024502 요약문 텍스트\n"
     ]
    },
    {
     "name": "stderr",
     "output_type": "stream",
     "text": [
      "  4%|▍         | 10/226 [2:01:05<43:55:06, 731.97s/it]"
     ]
    },
    {
     "name": "stdout",
     "output_type": "stream",
     "text": [
      "에러발생! 페이지, 출원번호, 에러발생요소:  16 1020050012292 요약문 텍스트\n"
     ]
    },
    {
     "name": "stderr",
     "output_type": "stream",
     "text": [
      "  7%|▋         | 15/226 [3:02:34<43:12:02, 737.07s/it]"
     ]
    },
    {
     "name": "stdout",
     "output_type": "stream",
     "text": [
      "에러발생! 페이지, 출원번호, 에러발생요소:  21 1020050128983 패밀리 개수\n",
      "에러발생! 페이지, 출원번호, 에러발생요소:  21 1020050128985 패밀리 개수\n"
     ]
    },
    {
     "name": "stderr",
     "output_type": "stream",
     "text": [
      "  8%|▊         | 17/226 [3:27:02<42:43:06, 735.82s/it]"
     ]
    },
    {
     "name": "stdout",
     "output_type": "stream",
     "text": [
      "에러발생! 페이지, 출원번호, 에러발생요소:  23 1020050102427 패밀리 개수\n"
     ]
    },
    {
     "name": "stderr",
     "output_type": "stream",
     "text": [
      "  8%|▊         | 18/226 [3:39:14<42:26:46, 734.65s/it]"
     ]
    },
    {
     "name": "stdout",
     "output_type": "stream",
     "text": [
      "에러발생! 페이지, 출원번호, 에러발생요소:  24 1020050096829 패밀리 개수\n"
     ]
    },
    {
     "name": "stderr",
     "output_type": "stream",
     "text": [
      "  9%|▉         | 20/226 [4:03:41<42:00:13, 734.05s/it]"
     ]
    },
    {
     "name": "stdout",
     "output_type": "stream",
     "text": [
      "에러발생! 페이지, 출원번호, 에러발생요소:  26 1020050075669 패밀리 개수\n"
     ]
    },
    {
     "name": "stderr",
     "output_type": "stream",
     "text": [
      " 10%|█         | 23/226 [4:40:20<41:23:05, 733.92s/it]"
     ]
    },
    {
     "name": "stdout",
     "output_type": "stream",
     "text": [
      "에러발생! 페이지, 출원번호, 에러발생요소:  29 1020050040175 패밀리 개수\n"
     ]
    },
    {
     "name": "stderr",
     "output_type": "stream",
     "text": [
      " 11%|█         | 24/226 [4:52:38<41:14:51, 735.11s/it]"
     ]
    },
    {
     "name": "stdout",
     "output_type": "stream",
     "text": [
      "에러발생! 페이지, 출원번호, 에러발생요소:  30 1020050011728 패밀리 개수\n"
     ]
    },
    {
     "name": "stderr",
     "output_type": "stream",
     "text": [
      " 12%|█▏        | 26/226 [5:16:02<39:45:11, 715.56s/it]"
     ]
    },
    {
     "name": "stdout",
     "output_type": "stream",
     "text": [
      "에러발생! 페이지, 출원번호, 에러발생요소:  32 1020077013645 요약문 텍스트\n",
      "에러발생! 페이지, 출원번호, 에러발생요소:  32 1020077006453 요약문 텍스트\n",
      "에러발생! 페이지, 출원번호, 에러발생요소:  32 1020077015461 요약문 텍스트\n"
     ]
    },
    {
     "name": "stderr",
     "output_type": "stream",
     "text": [
      " 12%|█▏        | 28/226 [5:35:47<35:57:24, 653.76s/it]"
     ]
    },
    {
     "name": "stdout",
     "output_type": "stream",
     "text": [
      "에러발생! 페이지, 출원번호, 에러발생요소:  34 1020050023182 패밀리 개수\n"
     ]
    }
   ],
   "source": [
    "collect_patent(tab_current_page, 231)"
   ]
  },
  {
   "cell_type": "code",
   "execution_count": null,
   "id": "c95e6a8d",
   "metadata": {},
   "outputs": [],
   "source": []
  },
  {
   "cell_type": "code",
   "execution_count": null,
   "id": "e08b6e87",
   "metadata": {},
   "outputs": [],
   "source": []
  },
  {
   "cell_type": "markdown",
   "id": "765c12eb",
   "metadata": {},
   "source": [
    "# 이하 테스트 코드"
   ]
  },
  {
   "cell_type": "code",
   "execution_count": null,
   "id": "7e242c8f",
   "metadata": {},
   "outputs": [],
   "source": [
    "# 새탭 반영한 코드\n",
    "\n",
    "def collect_patent(start_page, end_page) :\n",
    "    \n",
    "    global tab_current_page\n",
    "    global s_page\n",
    "\n",
    "    #for page in trange(1, 5) :\n",
    "    #for page in trange(1, total_page_number) :\n",
    "    for page in trange(start_page, end_page+1) : \n",
    "        time.sleep(5)\n",
    "        tab_current_page = int(driver.find_element(By.TAG_NAME,\"strong\").text) # 새탭에서 현재 페이지\n",
    "\n",
    "        for article in range(1, 91) : # 한 페이지 내의 1~90번째 특허를 보면서\n",
    "            \n",
    "            # 변수 초기화\n",
    "            \n",
    "\n",
    "            patent_name_Kor='';patent_name_Eng='';IPC='';CPC='';\n",
    "            Application_No='';Application_Date='';Applicant='';Public_No='';\n",
    "            Public_Date='';legal_state='';category='';claims_count=''; family_count = '';\n",
    "            Expiration_Date='';\n",
    "\n",
    "            try :                \n",
    "                xpath_patent = '/html/body/div[1]/section/div/div[2]/div/ul/li[%d]/a' %article # 특허 순서대로 선택하기\n",
    "                driver.find_element(By.XPATH, xpath_patent).click()\n",
    "                time.sleep(1)\n",
    "                \n",
    "                patent_name_Kor = driver.find_element(By.XPATH, '/html/body/div[1]/div/div/section[1]/div/h1/span[1]').text\n",
    "                patent_name_Eng = driver.find_element(By.XPATH, '/html/body/div[1]/div/div/section[1]/div/h1/span[2]').text              \n",
    "                    \n",
    "                content = driver.find_element(By.TAG_NAME,\"iframe\")\n",
    "                driver.switch_to.frame(content) # iframe 안으로 들어간다.\n",
    "                \n",
    "                tmNews = driver.find_element(By.CLASS_NAME, 'detial_plan_info')\n",
    "                tmNewsLis = tmNews.find_elements(By.TAG_NAME, 'li') # div 내에서 li 리스트 검색\n",
    "                                \n",
    "                for li in tmNewsLis :\n",
    "                    if  li.text[:12] == '(51) Int. CL' :\n",
    "                        try : IPC = li.text.split('(51) Int. CL')[1]\n",
    "                        except : continue\n",
    "                    elif  li.text[:8] == '(52) CPC' :\n",
    "                        try : CPC = li.text.split('(52) CPC')[1]\n",
    "                        except : continue\n",
    "                    elif  li.text[:16] == '(21) 출원번호/일자(국제)' :\n",
    "                        try :\n",
    "                            Application_No = li.text.split('(21) 출원번호/일자(국제) ')[1].split(\" \")[0]\n",
    "                            Application_Date = li.text.split('(21) 출원번호/일자(국제) ')[1].split(\" \")[1][1:-1]\n",
    "                        except : continue\n",
    "                          \n",
    "                    elif  li.text[:13] == '(21) 출원번호/일자 ' :\n",
    "                        try :\n",
    "                            Application_No = li.text.split('(21) 출원번호/일자 ')[1].split(\" \")[0]\n",
    "                            Application_Date = li.text.split('(21) 출원번호/일자 ')[1].split(\" \")[1][1:-1]\n",
    "                        except : continue                            \n",
    "                                                    \n",
    "                    elif  li.text[:8] == '(71) 출원인' :\n",
    "                        try : Applicant = li.text.split('(71) 출원인 ')[1]\n",
    "                        except : continue\n",
    "                    elif li.text[:8] == '번역문제출일자 ':\n",
    "                        try : translation_issue_date = li.text.split('번역문제출일자 ')[1][1:-1]\n",
    "                        except : continue\n",
    "                    elif li.text[:12] == '(65) 공개번호/일자' :\n",
    "                        try:\n",
    "                            Public_No = li.text.split('(65) 공개번호/일자 ')[1].split(\" \")[0]\n",
    "                            Public_Date = li.text.split('(65) 공개번호/일자 ')[1].split(\" \")[1][1:-1]\n",
    "                        except : continue\n",
    "                    elif li.text[:5] == '법적상태 ' :\n",
    "                        try : legal_state = li.text.split('법적상태 ')[1]\n",
    "                        except : continue\n",
    "                    elif li.text[:6] == '심사청구항수' :\n",
    "                        try: \n",
    "                            claims_count = li.text.split('심사청구항수 ')[1]\n",
    "                        except : continue\n",
    "                    elif li.text[:3] == '구분 ' :\n",
    "                        try : category = li.text.split('구분 ')[1]\n",
    "                        except : continue                              \n",
    "\n",
    "                # pdf 다운로드\n",
    "                #pdfDownload = driver.find_element(By.CLASS_NAME, 'right_align')\n",
    "                #pdfDownload2 = pdfDownload.find_element(By.TAG_NAME,\"a\")\n",
    "                #pdfDownload2.click()\n",
    "                #time.sleep(1)   \n",
    "\n",
    "                driver.switch_to.default_content() # iframe에서 나온다. 이거 무조건 해줘야 한다.   \n",
    "                \n",
    "                # 이제 패밀리 개수 받으러 갈거야\n",
    "                driver.find_element(By.XPATH, '/html/body/div[1]/div/div/section[1]/div/ul/li[1]/ul/li[7]/a').click()\n",
    "                \n",
    "                content = driver.find_element(By.TAG_NAME,\"iframe\")\n",
    "                driver.switch_to.frame(content) # iframe 안으로 들어간다.\n",
    "             \n",
    "                tBody= driver.find_element(By.CLASS_NAME, 'tstyle_list')\n",
    "                trLis = tBody.find_elements(By.TAG_NAME, 'tr') # tBody 내에서 lr 리스트 검색\n",
    "                if trLis[1].text == '데이터가 존재하지 않습니다.' :\n",
    "                    family_count = len(trLis)-2\n",
    "                else :\n",
    "                    family_count = len(trLis)-1\n",
    "\n",
    "                driver.switch_to.default_content()\n",
    "                time.sleep(1)\n",
    "                \n",
    "                \n",
    "                # 소멸한 특허면 등록사항에 소멸일자 받으러 갈 거야\n",
    "                \n",
    "                if legal_state[:2] == '소멸' :      \n",
    "                    driver.find_element(By.CSS_SELECTOR, '#liView07 > a').click()   \n",
    "                    time.sleep(0.5)\n",
    "\n",
    "                    content = driver.find_element(By.TAG_NAME,\"iframe\")\n",
    "                    driver.switch_to.frame(content) # iframe 안으로 들어간다.\n",
    "                    \n",
    "                    time.sleep(0.5)\n",
    "\n",
    "                    tBody= driver.find_element(By.XPATH, '/html/body/table[1]')\n",
    "                    trLis = tBody.find_elements(By.TAG_NAME, 'tr') # tBody 내에서 tr 리스트 검색\n",
    "                    \n",
    "                    time.sleep(0.5)\n",
    "\n",
    "                    for tr in trLis :\n",
    "                        if tr.text[:6] == '등록원인일자' :\n",
    "                            try : Expiration_Date = tr.text.split(\"등록원인일자 : \")[1].split(\" 등 록\")[0]\n",
    "                            except : continue                    \n",
    "                                  \n",
    "                    driver.switch_to.default_content()\n",
    "                    time.sleep(1)\n",
    "                    \n",
    "                    \n",
    "                                              \n",
    "                patent_info = {\n",
    "                    'Page_No' : tab_current_page,\n",
    "                    'Application_No' : Application_No,\n",
    "                    'Application_Date' : Application_Date,\n",
    "                    'Applicant' : Applicant,\n",
    "                    'legal_state' : legal_state,\n",
    "                    'patent_name_Kor' : patent_name_Kor,\n",
    "                    'patent_name_Eng' : patent_name_Eng,\n",
    "                    'IPC' : IPC,\n",
    "                    'CPC' : CPC, \n",
    "                    'Public_No' : Public_No,\n",
    "                    'Public_Date' : Public_Date,\n",
    "                    'category' : category,\n",
    "                    'claims_count' : claims_count,\n",
    "                    'family_count' : family_count,\n",
    "                    'Expiration_Date' : Expiration_Date\n",
    "                }\n",
    "                patent_link.append(patent_info)        \n",
    "\n",
    "                \n",
    "            except :\n",
    "                print('에러발생!!!   페이지, 출원번호(일단 건너뜀): ',tab_current_page, Application_No)\n",
    "                driver.switch_to.window(driver.window_handles[-1])\n",
    "                \n",
    "                error_patent_info = {\n",
    "                    'Page_No' : tab_current_page,\n",
    "                    'Application_No' : Application_No,\n",
    "                }\n",
    "                error_patent_link.append(error_patent_info)\n",
    "                continue\n",
    "    \n",
    "        if tab_current_page == end_page : # end_page는 5의 배수니까 \n",
    "            time.sleep(7)\n",
    "            driver.find_element(By.CSS_SELECTOR, '#divBiblioLeft > div.board_pager02 > a.next').click()\n",
    "            tab_current_page = int(driver.find_element(By.TAG_NAME,\"strong\").text) # 새탭에서 현재 페이지\n",
    "            print(\"스크래핑 종료\")\n",
    "            break                     \n",
    "        elif (tab_current_page % 5) == 1 :\n",
    "            time.sleep(7)\n",
    "            #driver.find_element(By.CSS_SELECTOR, '#divBiblioLeft > div.board_pager02 > a:nth-child(3)').click()\n",
    "            driver.find_element(By.CSS_SELECTOR, '#divBiblioLeft > div.board_pager02 > a:nth-child(3)').send_keys(Keys.ENTER)\n",
    "        elif (tab_current_page % 5) == 2 :\n",
    "            time.sleep(7)\n",
    "            #driver.find_element(By.CSS_SELECTOR, '#divBiblioLeft > div.board_pager02 > a:nth-child(4)').click() \n",
    "            driver.find_element(By.CSS_SELECTOR, '#divBiblioLeft > div.board_pager02 > a:nth-child(4)').send_keys(Keys.ENTER)\n",
    "        elif (tab_current_page % 5) == 3 :\n",
    "            time.sleep(7)\n",
    "            #driver.find_element(By.CSS_SELECTOR, '#divBiblioLeft > div.board_pager02 > a:nth-child(5)').click()\n",
    "            driver.find_element(By.CSS_SELECTOR, '#divBiblioLeft > div.board_pager02 > a:nth-child(5)').send_keys(Keys.ENTER)\n",
    "        elif (tab_current_page % 5) == 4 :\n",
    "            time.sleep(7)\n",
    "            #driver.find_element(By.CSS_SELECTOR, '#divBiblioLeft > div.board_pager02 > a:nth-child(6)').click() \n",
    "            driver.find_element(By.CSS_SELECTOR, '#divBiblioLeft > div.board_pager02 > a:nth-child(6)').send_keys(Keys.ENTER) \n",
    "        elif (tab_current_page % 5) == 0 :\n",
    "            time.sleep(7)\n",
    "            #driver.find_element(By.CSS_SELECTOR, '#divBiblioLeft > div.board_pager02 > a.next').click()   \n",
    "            try : driver.find_element(By.CSS_SELECTOR, '#divBiblioLeft > div.board_pager02 > a.next').send_keys(Keys.ENTER)     \n",
    "            except :        \n",
    "                time.sleep(20)\n",
    "                driver.find_element(By.CSS_SELECTOR, '#divBiblioLeft > div.board_pager02 > a.next').send_keys(Keys.ENTER) \n",
    "\n",
    "    df = pd.DataFrame(patent_link)\n",
    "    df.head()\n",
    "    df.to_csv('df_%d_%d.csv'%(s_page, end_page), index=False, encoding='utf-8-sig')\n",
    " \n",
    "    error_df = pd.DataFrame(error_patent_link)\n",
    "    error_df.head()\n",
    "    error_df.to_csv('error_df_%d_%d.csv'%(s_page, end_page), index=False, encoding='utf-8-sig')"
   ]
  }
 ],
 "metadata": {
  "kernelspec": {
   "display_name": "Python 3 (ipykernel)",
   "language": "python",
   "name": "python3"
  },
  "language_info": {
   "codemirror_mode": {
    "name": "ipython",
    "version": 3
   },
   "file_extension": ".py",
   "mimetype": "text/x-python",
   "name": "python",
   "nbconvert_exporter": "python",
   "pygments_lexer": "ipython3",
   "version": "3.9.12"
  },
  "vscode": {
   "interpreter": {
    "hash": "28bca50f14677f5128e5f5b2c486ff56945ed9f793913ce3e2589aa7d9dfcea8"
   }
  }
 },
 "nbformat": 4,
 "nbformat_minor": 5
}
