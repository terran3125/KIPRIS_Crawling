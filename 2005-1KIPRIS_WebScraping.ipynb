{
 "cells": [
  {
   "cell_type": "markdown",
   "id": "06b1fc99",
   "metadata": {},
   "source": [
    "# Code Description<br>\n",
    "\n",
    "This code is a code that collects patent PDFs using a web crawler for patent network analysis research.<br>\n",
    "Data is collected through a web page called KIPRIS that provides Korean patent data.<br>\n",
    "The data collected are the patent application PDF itself and various information about the patent.<br>\n",
    "\n",
    "Written By Sangmin Hwang(terran3125@u.sogang.ac.kr)"
   ]
  },
  {
   "cell_type": "markdown",
   "id": "e07ee379",
   "metadata": {},
   "source": [
    "### 1. Import Libraries & Set Working Directory"
   ]
  },
  {
   "cell_type": "code",
   "execution_count": null,
   "id": "e4fe1fa3",
   "metadata": {},
   "outputs": [],
   "source": [
    "#!pip install selenium\n",
    "#!pip install tqdm"
   ]
  },
  {
   "cell_type": "code",
   "execution_count": 1,
   "id": "04a91ec4",
   "metadata": {},
   "outputs": [],
   "source": [
    "# Basic Libraries\n",
    "import os, time\n",
    "import pandas as pd\n",
    "import numpy as np\n",
    "from tqdm import trange, tqdm\n",
    "\n",
    "# Web Scraping Methods\n",
    "from selenium import webdriver\n",
    "from selenium.webdriver.common.by import By\n",
    "from selenium.webdriver.common.keys import Keys\n",
    "from selenium.webdriver.support.select import Select\n",
    "\n",
    "from selenium.common.exceptions import NoSuchElementException\n",
    "from selenium.common.exceptions import StaleElementReferenceException\n",
    "from selenium.common.exceptions import NoSuchWindowException "
   ]
  },
  {
   "cell_type": "markdown",
   "id": "52ce6c7e",
   "metadata": {},
   "source": [
    "Set Directory to download csv files which have information about Patents"
   ]
  },
  {
   "cell_type": "code",
   "execution_count": 3,
   "id": "12065235",
   "metadata": {},
   "outputs": [],
   "source": [
    "#os.chdir(r'C:\\Users\\tkdal\\OneDrive - Sogang\\sogang_pypr\\기술금융 데이터\\KIPRIS_csv') # 노트북\n",
    "os.chdir(r'C:\\Users\\tkdals\\OneDrive - Sogang\\TechnologyFinancingDataCleansing\\data') # 연구실"
   ]
  },
  {
   "cell_type": "markdown",
   "id": "4e4842e9",
   "metadata": {},
   "source": [
    "### 2. Set Chrome Driver Options"
   ]
  },
  {
   "cell_type": "code",
   "execution_count": 4,
   "id": "72af9ac1",
   "metadata": {},
   "outputs": [],
   "source": [
    "options = webdriver.ChromeOptions()\n",
    "#options.add_argument('headless') # Don't show Chrome Driver Working\n",
    "options.add_argument(\"disable-gpu\")\n",
    "options.add_argument(\"lang=ko_KR\") # Language is Korean\n",
    "options.add_argument(\"user-agent=Mozilla/5.0 (Macintosh; Intel Mac OS X 10_12_6) AppleWebKit/537.36 (KHTML, like Gecko) Chrome/61.0.3163.100 Safari/537.36\") # Visit Website like a human\n",
    "options.add_experimental_option(\"prefs\", {\n",
    "  \"download.default_directory\": r\"D:\\KIPRIS_RawData(2022.11.20)\", # Where to download raw PDF files(very large files.. Recommend set D-drive which have N-TB)\n",
    "  \"download.prompt_for_download\": False,\n",
    "  \"download.directory_upgrade\": True,\n",
    "  \"safebrowsing.enabled\": True\n",
    "})"
   ]
  },
  {
   "cell_type": "code",
   "execution_count": 5,
   "id": "eaf60e0a",
   "metadata": {
    "scrolled": true
   },
   "outputs": [
    {
     "name": "stderr",
     "output_type": "stream",
     "text": [
      "C:\\Users\\tkdals\\AppData\\Local\\Temp\\ipykernel_17668\\817290157.py:3: DeprecationWarning: executable_path has been deprecated, please pass in a Service object\n",
      "  driver = webdriver.Chrome(r'C:\\Users\\tkdals\\OneDrive - Sogang\\TechnologyFinancingDataCleansing\\ChromeDriver\\chromedriver.exe', chrome_options=options)\n",
      "C:\\Users\\tkdals\\AppData\\Local\\Temp\\ipykernel_17668\\817290157.py:3: DeprecationWarning: use options instead of chrome_options\n",
      "  driver = webdriver.Chrome(r'C:\\Users\\tkdals\\OneDrive - Sogang\\TechnologyFinancingDataCleansing\\ChromeDriver\\chromedriver.exe', chrome_options=options)\n"
     ]
    }
   ],
   "source": [
    "# 크롬 드라이버 열기\n",
    "#driver = webdriver.Chrome(r'C:\\Users\\tkdal\\Dropbox\\기술금융\\키프리스 크롤링\\chromedriver.exe', chrome_options=options) # 노트북 경로\n",
    "driver = webdriver.Chrome(r'C:\\Users\\tkdals\\OneDrive - Sogang\\TechnologyFinancingDataCleansing\\ChromeDriver\\chromedriver.exe', chrome_options=options)\n",
    "#driver = webdriver.Chrome(r'C:\\Users\\pc조교\\Desktop\\pypr\\chromedriver.exe', chrome_options=options) # 연구실 경로"
   ]
  },
  {
   "cell_type": "markdown",
   "id": "879061fd",
   "metadata": {},
   "source": [
    "### 3. Enter KIPRIS web page & Set patent search criteria<br>\n",
    "### __Code Reference__<br>\n",
    "Crawling Target: http://kportal.kipris.or.kr/kportal/search/search_patent.do<br>\n",
    "Selenium Basic Usage: https://workingwithpython.com/howtouseselenium-2/<br>\n",
    "Properties of selenium elements: https://minorman.tistory.com/113<br>\n",
    "Change Active Tabs: https://devyurim.github.io/python/crawler/2018/08/13/crawler-3.html<br>\n",
    "Xpath: https://wkdtjsgur100.github.io/selenium-xpath/<br>\n",
    "By method description: https://blog.daum.net/sualchi/13721870"
   ]
  },
  {
   "cell_type": "code",
   "execution_count": 6,
   "id": "ca9cf478",
   "metadata": {},
   "outputs": [],
   "source": [
    "# Enter KIPRIS\n",
    "driver.get('http://kpat.kipris.or.kr/kpat/searchLogina.do?next=MainSearch')"
   ]
  },
  {
   "cell_type": "code",
   "execution_count": 7,
   "id": "7177366e",
   "metadata": {},
   "outputs": [],
   "source": [
    "# Clear all text in the search box\n",
    "# 검색창에 글씨 있으면 다 지우고\n",
    "driver.find_element(By.NAME, 'queryText').clear()"
   ]
  },
  {
   "cell_type": "code",
   "execution_count": 8,
   "id": "6733bbb6",
   "metadata": {},
   "outputs": [],
   "source": [
    "# Enter 'Display' in the search box.\n",
    "# 검색창에 디스플레이를 입력한다.\n",
    "driver.find_element(By.NAME, 'queryText').send_keys('디스플레이')"
   ]
  },
  {
   "cell_type": "code",
   "execution_count": 9,
   "id": "ffb37f72",
   "metadata": {},
   "outputs": [],
   "source": [
    "# 좌측 행정상태 전부 해제\n",
    "xpath_button = '//*[@id=\"leftHangjung00\"]'\n",
    "driver.find_element(By.XPATH, xpath_button).click()"
   ]
  },
  {
   "cell_type": "code",
   "execution_count": 10,
   "id": "ac9145ba",
   "metadata": {},
   "outputs": [],
   "source": [
    "# 필요한 행정상태만 체크\n",
    "xpath_button = '//*[@id=\"leftHangjung01\"]' # 공개\n",
    "driver.find_element(By.XPATH, xpath_button).click()\n",
    "xpath_button = '//*[@id=\"leftHangjung03\"]' # 소멸\n",
    "driver.find_element(By.XPATH, xpath_button).click()\n",
    "xpath_button = '//*[@id=\"leftHangjung07\"]' # 등록\n",
    "driver.find_element(By.XPATH, xpath_button).click()"
   ]
  },
  {
   "cell_type": "code",
   "execution_count": 11,
   "id": "b116d2a3",
   "metadata": {},
   "outputs": [],
   "source": [
    "# 불필요한 권리 종류인 '실용' 체크 해제\n",
    "xpath_button = '//*[@id=\"leftGubn01\"]' # 특허, 실용 중 실용은 필요없으므로 해제 대상\n",
    "driver.find_element(By.XPATH, xpath_button).click()"
   ]
  },
  {
   "cell_type": "code",
   "execution_count": 12,
   "id": "d6facdfb",
   "metadata": {},
   "outputs": [],
   "source": [
    "# 검색 버튼 클릭하기기\n",
    "xpath_button = '//*[@id=\"SearchPara\"]/fieldset/span[1]/a/img' # 검색 버튼 xpath 추출\n",
    "driver.find_element(By.XPATH, xpath_button).click()"
   ]
  },
  {
   "cell_type": "code",
   "execution_count": 13,
   "id": "face1ea5",
   "metadata": {},
   "outputs": [],
   "source": [
    "# 드롭다운 버튼 중에서 선택\n",
    "select = Select(driver.find_element(By.ID, 'opt28')) # 페이지당 보여지는 검색결과 갯수 선택\n",
    "select.select_by_value(\"90\") # 최대 개수인 90개를 한 페이지에 보이게 하자"
   ]
  },
  {
   "cell_type": "code",
   "execution_count": 14,
   "id": "00729b37",
   "metadata": {},
   "outputs": [],
   "source": [
    "# 90개 보이기 버튼 클릭\n",
    "xpath_button = '//*[@id=\"pageSel\"]/a/img' # 90개 리스트 보여주기 go 버튼 클릭\n",
    "driver.find_element(By.XPATH, xpath_button).click()"
   ]
  },
  {
   "cell_type": "code",
   "execution_count": 15,
   "id": "c4698adb",
   "metadata": {},
   "outputs": [],
   "source": [
    "xpath_button = '//*[@id=\"snavigation\"]/ul/li[2]/button/img' # 검색결과 분류통계\n",
    "driver.find_element(By.XPATH, xpath_button).click()"
   ]
  },
  {
   "cell_type": "code",
   "execution_count": 16,
   "id": "bdc670bf",
   "metadata": {},
   "outputs": [],
   "source": [
    "time.sleep(0.5)\n",
    "xpath_button = '//*[@id=\"CategoryList_1\"]/li[10]/button' # 2005년\n",
    "driver.find_element(By.XPATH, xpath_button).click()"
   ]
  },
  {
   "cell_type": "code",
   "execution_count": 17,
   "id": "f78d9277",
   "metadata": {},
   "outputs": [
    {
     "name": "stdout",
     "output_type": "stream",
     "text": [
      "조건에 맞는 총 특허 개수:  20770\n"
     ]
    }
   ],
   "source": [
    "# 지금까지 설정한 조건들로 검색된 특허 개수 확인\n",
    "total_patent_number = int(driver.find_element(By.CLASS_NAME, 'total').text.replace(\",\",\"\"))\n",
    "print(\"조건에 맞는 총 특허 개수: \", total_patent_number)"
   ]
  },
  {
   "cell_type": "code",
   "execution_count": 18,
   "id": "6607866f",
   "metadata": {},
   "outputs": [
    {
     "name": "stdout",
     "output_type": "stream",
     "text": [
      "디스플레이 검색어 총 페이지 수(페이지당 90개 노출):  231\n"
     ]
    }
   ],
   "source": [
    "xpath_total_page_number = '/html/body/div[2]/div/section[3]/section/div[2]/form/section/div[1]/p'\n",
    "total_page_number = int(driver.find_element(By.XPATH, xpath_total_page_number).text.split(\"/ \")[1].split(\" Pages\")[0].replace(\",\",\"\"))\n",
    "end_page = total_page_number\n",
    "print(\"디스플레이 검색어 총 페이지 수(페이지당 90개 노출): \", total_page_number)"
   ]
  },
  {
   "cell_type": "markdown",
   "id": "24051852",
   "metadata": {},
   "source": [
    "### 4. Open a tab containing patent information"
   ]
  },
  {
   "cell_type": "code",
   "execution_count": 19,
   "id": "3bdf8b25",
   "metadata": {},
   "outputs": [],
   "source": [
    "# 첫번째 특허 눌러서 탭 연다.\n",
    "first = '/html/body/div[2]/div/section[3]/section/div[2]/form/section/article[1]/div[1]/h1/a[2]'\n",
    "driver.find_element(By.XPATH, first).click()"
   ]
  },
  {
   "cell_type": "code",
   "execution_count": 20,
   "id": "a6fef6f6",
   "metadata": {},
   "outputs": [],
   "source": [
    "# Switch the selenium work window to the Patent Information tab\n",
    "driver.switch_to.window(driver.window_handles[1]) # Switch to an open window which is opend later"
   ]
  },
  {
   "cell_type": "code",
   "execution_count": 21,
   "id": "f68af9b9",
   "metadata": {},
   "outputs": [],
   "source": [
    "def go_to_next(page) :\n",
    "    while 1 :\n",
    "        time.sleep(1)\n",
    "        tab_current_page = int(driver.find_element(By.TAG_NAME,\"strong\").text) # 새탭에서 현재 페이지\n",
    "        try :\n",
    "            time.sleep(1)\n",
    "            if tab_current_page == page : # 원하는 페이지 입력(단, 5로 나눴을 때 나머지가 반드시 1이어야 함)\n",
    "                break\n",
    "            else :\n",
    "                driver.find_element(By.CSS_SELECTOR, '#divBiblioLeft > div.board_pager02 > a.next').click()  \n",
    "                \n",
    "        except :\n",
    "            print('실패. 재시도 중')\n",
    "            time.sleep(5)\n",
    "            go_to_next(page)\n"
   ]
  },
  {
   "cell_type": "code",
   "execution_count": 22,
   "id": "a3f84463",
   "metadata": {},
   "outputs": [],
   "source": [
    "# 다음 버튼 처음 1번은 수동으로 눌러줘야 작동됨 ㅠ\n",
    "#go_to_next(1)"
   ]
  },
  {
   "cell_type": "code",
   "execution_count": 23,
   "id": "66ed6b81",
   "metadata": {},
   "outputs": [
    {
     "data": {
      "text/plain": [
       "1"
      ]
     },
     "execution_count": 23,
     "metadata": {},
     "output_type": "execute_result"
    }
   ],
   "source": [
    "# 현재 페이지 확인\n",
    "tab_current_page = int(driver.find_element(By.TAG_NAME,\"strong\").text) # 새탭에서 현재 페이지\n",
    "tab_current_page"
   ]
  },
  {
   "cell_type": "markdown",
   "id": "247c4120",
   "metadata": {},
   "source": [
    "### 5. Download patent PDF & generate patent information CSV"
   ]
  },
  {
   "cell_type": "code",
   "execution_count": 24,
   "id": "67e6682d",
   "metadata": {},
   "outputs": [],
   "source": [
    "driver.switch_to.default_content() # iframe 나오기"
   ]
  },
  {
   "cell_type": "code",
   "execution_count": 25,
   "id": "d293ce55",
   "metadata": {},
   "outputs": [],
   "source": [
    "# iframe 들어가기\n",
    "#content = driver.find_element(By.TAG_NAME,\"iframe\")\n",
    "#driver.switch_to.frame(content) # iframe 안으로 들어간다."
   ]
  },
  {
   "cell_type": "code",
   "execution_count": 26,
   "id": "215e06dd",
   "metadata": {},
   "outputs": [],
   "source": [
    "tab_current_page = int(driver.find_element(By.TAG_NAME,\"strong\").text) # 새탭에서 현재 페이지"
   ]
  },
  {
   "cell_type": "code",
   "execution_count": 27,
   "id": "1e09e8d9",
   "metadata": {},
   "outputs": [],
   "source": [
    "#driver.switch_to.window(driver.window_handles[1]) # 새탭으로 창전환"
   ]
  },
  {
   "cell_type": "code",
   "execution_count": 28,
   "id": "baa024a5",
   "metadata": {},
   "outputs": [
    {
     "name": "stdout",
     "output_type": "stream",
     "text": [
      "시작페이지 재확인:  1\n"
     ]
    }
   ],
   "source": [
    "start_page = tab_current_page # 고정된 시작페이지\n",
    "print(\"시작페이지 재확인: \", start_page)\n",
    "\n",
    "patent_link = []\n",
    "error_patent_link = []"
   ]
  },
  {
   "cell_type": "code",
   "execution_count": 29,
   "id": "801426cb",
   "metadata": {},
   "outputs": [],
   "source": [
    "# 변경하는 코드\n",
    "\n",
    "def collect_patent(start_page, end_page) :\n",
    "\n",
    "    #for page in trange(1, 5) :\n",
    "    #for page in trange(1, total_page_number) :\n",
    "    for page in tqdm(range(start_page, end_page+1)) : \n",
    "        time.sleep(5)\n",
    "        tab_current_page = int(driver.find_element(By.TAG_NAME,\"strong\").text) # 새탭에서 현재 페이지\n",
    "\n",
    "        for article in range(1, 91) : # 한 페이지 내의 1~90번째 특허를 보면서\n",
    "            \n",
    "            # 변수 초기화\n",
    "            PatentName_Kor='';PatentName_Eng='';IPC='';CPC='';\n",
    "            Application_No='';Application_Date='';Applicant='';Public_No='';\n",
    "            Public_Date='';Legal_State='';Category='';Claim_Count=''; Family_Count = '';\n",
    "            Expiration_Date=''; Summary_Text=''; Claim_Text=''; Applicant_Count=0; Inventor_Count=0;\n",
    "            Applicant_Nationality_Count=0; Inventor_Nationality_Count=0;\n",
    "\n",
    "            where_error=''\n",
    "            try : \n",
    "                time.sleep(0.2)               \n",
    "                xpath_patent = '/html/body/div[1]/section/div/div[2]/div/ul/li[%d]/a' %article # 특허 순서대로 선택하기\n",
    "                driver.find_element(By.XPATH, xpath_patent).click()\n",
    "                time.sleep(1)\n",
    "                \n",
    "                where_error='PatentName'\n",
    "                PatentName_Kor = driver.find_element(By.XPATH, '/html/body/div[1]/div/div/section[1]/div/h1/span[1]').text\n",
    "                PatentName_Eng = driver.find_element(By.XPATH, '/html/body/div[1]/div/div/section[1]/div/h1/span[2]').text              \n",
    "                    \n",
    "                content = driver.find_element(By.TAG_NAME,\"iframe\")\n",
    "                driver.switch_to.frame(content) # iframe 안으로 들어간다.\n",
    "                time.sleep(0.2)  \n",
    "                \n",
    "                tmNews = driver.find_element(By.CLASS_NAME, 'detial_plan_info')\n",
    "                tmNewsLis = tmNews.find_elements(By.TAG_NAME, 'li') # div 내에서 li 리스트 검색\n",
    "\n",
    "                where_error='서지정보내부'                          \n",
    "                for li in tmNewsLis :\n",
    "                    \n",
    "                    if  li.text[:12] == '(51) Int. CL' :\n",
    "                        try : IPC = li.text.split('(51) Int. CL')[1]\n",
    "                        except : continue\n",
    "                    elif  li.text[:8] == '(52) CPC' :\n",
    "                        try : CPC = li.text.split('(52) CPC')[1]\n",
    "                        except : continue\n",
    "                    elif  li.text[:16] == '(21) 출원번호/일자(국제)' :\n",
    "                        try :\n",
    "                            Application_No = li.text.split('(21) 출원번호/일자(국제) ')[1].split(\" \")[0]\n",
    "                            Application_Date = li.text.split('(21) 출원번호/일자(국제) ')[1].split(\" \")[1][1:-1]\n",
    "                        except : continue\n",
    "                    elif  li.text[:13] == '(21) 출원번호/일자 ' :\n",
    "                        try :\n",
    "                            Application_No = li.text.split('(21) 출원번호/일자 ')[1].split(\" \")[0]\n",
    "                            Application_Date = li.text.split('(21) 출원번호/일자 ')[1].split(\" \")[1][1:-1]\n",
    "                        except : continue                                                \n",
    "                    elif  li.text[:8] == '(71) 출원인' :\n",
    "                        try : Applicant = li.text.split('(71) 출원인 ')[1]\n",
    "                        except : continue\n",
    "                    elif li.text[:8] == '번역문제출일자 ':\n",
    "                        try : translation_issue_date = li.text.split('번역문제출일자 ')[1][1:-1]\n",
    "                        except : continue\n",
    "                    elif li.text[:12] == '(65) 공개번호/일자' :\n",
    "                        try:\n",
    "                            Public_No = li.text.split('(65) 공개번호/일자 ')[1].split(\" \")[0]\n",
    "                            Public_Date = li.text.split('(65) 공개번호/일자 ')[1].split(\" \")[1][1:-1]\n",
    "                        except : continue\n",
    "                    elif li.text[:5] == '법적상태 ' :\n",
    "                        try : Legal_State = li.text.split('법적상태 ')[1]\n",
    "                        except : continue\n",
    "                    elif li.text[:6] == '심사청구항수' :\n",
    "                        try: \n",
    "                            Claim_Count = li.text.split('심사청구항수 ')[1]\n",
    "                        except : continue\n",
    "                    elif li.text[:3] == '구분 ' :\n",
    "                        try : Category = li.text.split('구분 ')[1]\n",
    "                        except : continue       \n",
    "\n",
    "                where_error='요약문 텍스트'  \n",
    "                time.sleep(0.2)\n",
    "                try : \n",
    "                    Summary_Text=driver.find_element(By.XPATH, '//*[@id=\"abstract_box\"]/summary').text\n",
    "                except : \n",
    "                    Summary_Text=driver.find_element(By.XPATH, '//*[@id=\"abstract_box\"]/p').text\n",
    "\n",
    "\n",
    "                # pdf 다운로드\n",
    "                #pdfDownload = driver.find_element(By.CLASS_NAME, 'right_align')\n",
    "                #pdfDownload2 = pdfDownload.find_element(By.TAG_NAME,\"a\")\n",
    "                #pdfDownload2.click()\n",
    "                #time.sleep(1)   \n",
    "                driver.switch_to.default_content() # iframe에서 나온다. 이거 무조건 해줘야 한다.   \n",
    "\n",
    "                where_error='인명정보'  \n",
    "                # 출원인, 발명자 수 및 국적수 구하러 간다.\n",
    "                driver.find_element(By.XPATH, '//*[@id=\"liViewSub02\"]/a').click() # 상세정보 中 인명정보 클릭\n",
    "                time.sleep(0.5) # 클릭하고 요소 뜰때까지 잠깐 기다린다.\n",
    "\n",
    "                content = driver.find_element(By.TAG_NAME,\"iframe\")\n",
    "                driver.switch_to.frame(content) # iframe 안으로 들어간다.\n",
    "\n",
    "                t1=driver.find_element(By.XPATH, '//*[@id=\"divBiblioContent\"]/table[1]')\n",
    "                trLis = t1.find_elements(By.TAG_NAME, 'tr') # tBody 내에서 lr 리스트 검색\n",
    "                Applicant_Count=len(trLis)-1\n",
    "\n",
    "                nat_lis=[]\n",
    "                for i in range(1, len(trLis)) : # 모든 발명자에 대해서\n",
    "                    nat_lis.append(trLis[i].find_element(By.CLASS_NAME, 'nationality').text)\n",
    "                nat_lis=set(nat_lis)\n",
    "                Applicant_Nationality_Count=len(nat_lis)                \n",
    "\n",
    "                t2=driver.find_element(By.XPATH, '//*[@id=\"divBiblioContent\"]/table[2]') # 발명자 테이블\n",
    "                trLis = t2.find_elements(By.TAG_NAME, 'tr') # tBody 내에서 lr 리스트 검색\n",
    "                Inventor_Count=len(trLis)-1\n",
    "\n",
    "                nat_lis=[]\n",
    "                for i in range(1, len(trLis)) : # 모든 발명자에 대해서\n",
    "                    nat_lis.append(trLis[i].find_element(By.CLASS_NAME, 'nationality').text)\n",
    "                nat_lis=set(nat_lis)\n",
    "                Inventor_Nationality_Count=len(nat_lis)\n",
    "                driver.switch_to.default_content() # iframe에서 나온다. 이거 무조건 해줘야 한다.  \n",
    "                time.sleep(1)\n",
    "\n",
    "                \n",
    "                # 이제 청구항 텍스트 받으러 갈 거다.\n",
    "                where_error='청구항 텍스트'\n",
    "                driver.find_element(By.XPATH, '//*[@id=\"liViewSub04\"]/a').click() # 상세정보 中 청구항 클릭\n",
    "                time.sleep(0.5) # 클릭하고 요소 뜰때까지 잠깐 기다린다.\n",
    "\n",
    "                content = driver.find_element(By.TAG_NAME,\"iframe\")\n",
    "                driver.switch_to.frame(content) # iframe 안으로 들어간다.\n",
    "\n",
    "                tBody= driver.find_element(By.CLASS_NAME, 'tstyle_list')\n",
    "                trLis = tBody.find_elements(By.TAG_NAME, 'tr') # tBody 내에서 lr 리스트 검색\n",
    "                \n",
    "                for i in range(1,len(trLis)) :\n",
    "                    if trLis[i].text[1:].replace(\" \", \"\")=='삭제' :\n",
    "                        continue\n",
    "                    Claim_Text = Claim_Text + trLis[i].text[1:].replace(\"\\n\", \"\")\n",
    "\n",
    "                driver.switch_to.default_content() # iframe에서 나온다. 이거 무조건 해줘야 한다. \n",
    "                time.sleep(1)\n",
    "\n",
    "\n",
    "                where_error='패밀리 개수'\n",
    "                # 이제 패밀리 개수 받으러 갈거야\n",
    "                driver.find_element(By.XPATH, '/html/body/div[1]/div/div/section[1]/div/ul/li[1]/ul/li[7]/a').click()\n",
    "                time.sleep(0.5) # 클릭하고 요소 뜰때까지 잠깐 기다린다.\n",
    "                \n",
    "                content = driver.find_element(By.TAG_NAME,\"iframe\")\n",
    "                driver.switch_to.frame(content) # iframe 안으로 들어간다.\n",
    "             \n",
    "                tBody= driver.find_element(By.CLASS_NAME, 'tstyle_list')\n",
    "                trLis = tBody.find_elements(By.TAG_NAME, 'tr') # tBody 내에서 lr 리스트 검색\n",
    "                try:\n",
    "                    if trLis[1].text == '데이터가 존재하지 않습니다.' : # 이렇게 떠 있으면 Family 개수 0\n",
    "                        Family_Count = 0\n",
    "                    else :\n",
    "                        Family_Count = len(trLis)-1 # 1개 이상 있으면 이 규칙으로 패밀리 개수 Count\n",
    "                except:\n",
    "                    Family_Count = 0 # 데이터가 존재하지 않는다는 문구도 없을 수도 있다.\n",
    "\n",
    "                driver.switch_to.default_content()                \n",
    "                \n",
    "                # 소멸한 특허면 등록사항에 소멸일자 받으러 갈 거야\n",
    "                where_error='등록사항'\n",
    "                if Legal_State[:2] == '소멸' :      \n",
    "                    driver.find_element(By.CSS_SELECTOR, '#liView07 > a').click()   \n",
    "                    time.sleep(0.5) # 클릭하고 요소 뜰때까지 잠깐 기다린다.\n",
    "\n",
    "                    content = driver.find_element(By.TAG_NAME,\"iframe\")\n",
    "                    driver.switch_to.frame(content) # iframe 안으로 들어간다.\n",
    "\n",
    "                    tBody= driver.find_element(By.XPATH, '/html/body/table[1]')\n",
    "                    trLis = tBody.find_elements(By.TAG_NAME, 'tr') # tBody 내에서 tr 리스트 검색\n",
    "\n",
    "                    for tr in trLis :\n",
    "                        if tr.text[:6] == '등록원인일자' :\n",
    "                            try : Expiration_Date = tr.text.split(\"등록원인일자 : \")[1].split(\" 등 록\")[0]\n",
    "                            except : continue                    \n",
    "                                  \n",
    "                    driver.switch_to.default_content()\n",
    "                                               \n",
    "                patent_info = {\n",
    "                    #'Page_No' : tab_current_page,\n",
    "                    'Application_No' : Application_No,\n",
    "                    'Application_Date' : Application_Date,\n",
    "                    'Applicant' : Applicant,\n",
    "                    'Legal_State' : Legal_State,\n",
    "                    'PatentName_Kor' : PatentName_Kor,\n",
    "                    'PatentName_Eng' : PatentName_Eng,\n",
    "                    'IPC' : IPC,\n",
    "                    'CPC' : CPC, \n",
    "                    #'Public_No' : Public_No,\n",
    "                    #'Public_Date' : Public_Date,\n",
    "                    #'Category' : Category,\n",
    "                    'Applicant_Count' : Applicant_Count,\n",
    "                    'Applicant_Nationality_Count' : Applicant_Nationality_Count,\n",
    "                    'Inventor_Count' : Inventor_Count,\n",
    "                    'Inventor_Nationality_Count' : Inventor_Nationality_Count,\n",
    "                    'Claim_Count' : Claim_Count,\n",
    "                    'Family_Count' : Family_Count,\n",
    "                    'Expiration_Date' : Expiration_Date,\n",
    "                    'Summary_Text' : Summary_Text,\n",
    "                    'Claim_Text' : Claim_Text\n",
    "                }\n",
    "                patent_link.append(patent_info)        \n",
    "                \n",
    "            except :\n",
    "                print('에러발생! 페이지, 출원번호, 에러발생요소: ',tab_current_page, Application_No, where_error)\n",
    "                driver.switch_to.window(driver.window_handles[-1])\n",
    "                \n",
    "                error_patent_info = {\n",
    "                    'Page_No' : tab_current_page,\n",
    "                    'Application_No' : Application_No,\n",
    "                    'WhereError' :where_error\n",
    "                }\n",
    "                error_patent_link.append(error_patent_info)\n",
    "                continue\n",
    "\n",
    "        tab_current_page = int(driver.find_element(By.TAG_NAME,\"strong\").text) # 새탭에서 현재 페이지\n",
    "                \n",
    "        if tab_current_page == end_page : # end_page는 5의 배수니까 \n",
    "            time.sleep(3)\n",
    "            driver.find_element(By.CSS_SELECTOR, '#divBiblioLeft > div.board_pager02 > a.next').click()\n",
    "            tab_current_page = int(driver.find_element(By.TAG_NAME,\"strong\").text) # 새탭에서 현재 페이지\n",
    "            print(\"스크래핑 종료\")\n",
    "            break                     \n",
    "        elif (tab_current_page % 5) == 1 :\n",
    "            time.sleep(3)\n",
    "            #driver.find_element(By.CSS_SELECTOR, '#divBiblioLeft > div.board_pager02 > a:nth-child(3)').click()\n",
    "            driver.find_element(By.CSS_SELECTOR, '#divBiblioLeft > div.board_pager02 > a:nth-child(3)').send_keys(Keys.ENTER)\n",
    "        elif (tab_current_page % 5) == 2 :\n",
    "            time.sleep(3)\n",
    "            #driver.find_element(By.CSS_SELECTOR, '#divBiblioLeft > div.board_pager02 > a:nth-child(4)').click() \n",
    "            driver.find_element(By.CSS_SELECTOR, '#divBiblioLeft > div.board_pager02 > a:nth-child(4)').send_keys(Keys.ENTER)\n",
    "        elif (tab_current_page % 5) == 3 :\n",
    "            time.sleep(3)\n",
    "            #driver.find_element(By.CSS_SELECTOR, '#divBiblioLeft > div.board_pager02 > a:nth-child(5)').click()\n",
    "            driver.find_element(By.CSS_SELECTOR, '#divBiblioLeft > div.board_pager02 > a:nth-child(5)').send_keys(Keys.ENTER)\n",
    "        elif (tab_current_page % 5) == 4 :\n",
    "            time.sleep(3)\n",
    "            #driver.find_element(By.CSS_SELECTOR, '#divBiblioLeft > div.board_pager02 > a:nth-child(6)').click() \n",
    "            driver.find_element(By.CSS_SELECTOR, '#divBiblioLeft > div.board_pager02 > a:nth-child(6)').send_keys(Keys.ENTER) \n",
    "        elif (tab_current_page % 5) == 0 :\n",
    "            time.sleep(3)\n",
    "            #driver.find_element(By.CSS_SELECTOR, '#divBiblioLeft > div.board_pager02 > a.next').click()   \n",
    "            try : driver.find_element(By.CSS_SELECTOR, '#divBiblioLeft > div.board_pager02 > a.next').send_keys(Keys.ENTER)     \n",
    "            except :        \n",
    "                time.sleep(15)\n",
    "                driver.find_element(By.CSS_SELECTOR, '#divBiblioLeft > div.board_pager02 > a.next').send_keys(Keys.ENTER) "
   ]
  },
  {
   "cell_type": "code",
   "execution_count": 30,
   "id": "0722d40a",
   "metadata": {},
   "outputs": [
    {
     "name": "stdout",
     "output_type": "stream",
     "text": [
      "1 120\n"
     ]
    }
   ],
   "source": [
    "tab_current_page = int(driver.find_element(By.TAG_NAME,\"strong\").text) # 새탭에서 현재 페이지\n",
    "end_page=120\n",
    "print(tab_current_page, end_page)"
   ]
  },
  {
   "cell_type": "code",
   "execution_count": 31,
   "id": "22f5778b",
   "metadata": {
    "scrolled": true
   },
   "outputs": [
    {
     "name": "stderr",
     "output_type": "stream",
     "text": [
      "  6%|▌         | 7/120 [1:19:30<21:46:05, 693.50s/it]"
     ]
    }
   ],
   "source": [
    "collect_patent(tab_current_page, end_page)"
   ]
  },
  {
   "cell_type": "code",
   "execution_count": null,
   "id": "c95e6a8d",
   "metadata": {},
   "outputs": [],
   "source": [
    "df = pd.DataFrame(patent_link)\n",
    "df.to_csv(r'C:\\Users\\tkdals\\OneDrive - Sogang\\TechnologyFinancingDataCleansing\\data\\Normal(2005-1_%d_%d).csv'%(start_page, end_page), index=False, encoding='cp949')\n",
    "error_df = pd.DataFrame(error_patent_link)\n",
    "error_df.to_csv(r'C:\\Users\\tkdals\\OneDrive - Sogang\\TechnologyFinancingDataCleansing\\data\\Error(2005-1_%d_%d).csv'%(start_page, end_page), index=False, encoding='cp949')"
   ]
  },
  {
   "cell_type": "code",
   "execution_count": null,
   "id": "e08b6e87",
   "metadata": {},
   "outputs": [],
   "source": []
  },
  {
   "cell_type": "markdown",
   "id": "765c12eb",
   "metadata": {},
   "source": [
    "# 이하 테스트 코드"
   ]
  },
  {
   "cell_type": "code",
   "execution_count": null,
   "id": "7e242c8f",
   "metadata": {},
   "outputs": [],
   "source": [
    "# 새탭 반영한 코드\n",
    "\n",
    "def collect_patent(start_page, end_page) :\n",
    "    \n",
    "    global tab_current_page\n",
    "    global s_page\n",
    "\n",
    "    #for page in trange(1, 5) :\n",
    "    #for page in trange(1, total_page_number) :\n",
    "    for page in trange(start_page, end_page+1) : \n",
    "        time.sleep(5)\n",
    "        tab_current_page = int(driver.find_element(By.TAG_NAME,\"strong\").text) # 새탭에서 현재 페이지\n",
    "\n",
    "        for article in range(1, 91) : # 한 페이지 내의 1~90번째 특허를 보면서\n",
    "            \n",
    "            # 변수 초기화\n",
    "            \n",
    "\n",
    "            patent_name_Kor='';patent_name_Eng='';IPC='';CPC='';\n",
    "            Application_No='';Application_Date='';Applicant='';Public_No='';\n",
    "            Public_Date='';legal_state='';category='';claims_count=''; family_count = '';\n",
    "            Expiration_Date='';\n",
    "\n",
    "            try :                \n",
    "                xpath_patent = '/html/body/div[1]/section/div/div[2]/div/ul/li[%d]/a' %article # 특허 순서대로 선택하기\n",
    "                driver.find_element(By.XPATH, xpath_patent).click()\n",
    "                time.sleep(1)\n",
    "                \n",
    "                patent_name_Kor = driver.find_element(By.XPATH, '/html/body/div[1]/div/div/section[1]/div/h1/span[1]').text\n",
    "                patent_name_Eng = driver.find_element(By.XPATH, '/html/body/div[1]/div/div/section[1]/div/h1/span[2]').text              \n",
    "                    \n",
    "                content = driver.find_element(By.TAG_NAME,\"iframe\")\n",
    "                driver.switch_to.frame(content) # iframe 안으로 들어간다.\n",
    "                \n",
    "                tmNews = driver.find_element(By.CLASS_NAME, 'detial_plan_info')\n",
    "                tmNewsLis = tmNews.find_elements(By.TAG_NAME, 'li') # div 내에서 li 리스트 검색\n",
    "                                \n",
    "                for li in tmNewsLis :\n",
    "                    if  li.text[:12] == '(51) Int. CL' :\n",
    "                        try : IPC = li.text.split('(51) Int. CL')[1]\n",
    "                        except : continue\n",
    "                    elif  li.text[:8] == '(52) CPC' :\n",
    "                        try : CPC = li.text.split('(52) CPC')[1]\n",
    "                        except : continue\n",
    "                    elif  li.text[:16] == '(21) 출원번호/일자(국제)' :\n",
    "                        try :\n",
    "                            Application_No = li.text.split('(21) 출원번호/일자(국제) ')[1].split(\" \")[0]\n",
    "                            Application_Date = li.text.split('(21) 출원번호/일자(국제) ')[1].split(\" \")[1][1:-1]\n",
    "                        except : continue\n",
    "                          \n",
    "                    elif  li.text[:13] == '(21) 출원번호/일자 ' :\n",
    "                        try :\n",
    "                            Application_No = li.text.split('(21) 출원번호/일자 ')[1].split(\" \")[0]\n",
    "                            Application_Date = li.text.split('(21) 출원번호/일자 ')[1].split(\" \")[1][1:-1]\n",
    "                        except : continue                            \n",
    "                                                    \n",
    "                    elif  li.text[:8] == '(71) 출원인' :\n",
    "                        try : Applicant = li.text.split('(71) 출원인 ')[1]\n",
    "                        except : continue\n",
    "                    elif li.text[:8] == '번역문제출일자 ':\n",
    "                        try : translation_issue_date = li.text.split('번역문제출일자 ')[1][1:-1]\n",
    "                        except : continue\n",
    "                    elif li.text[:12] == '(65) 공개번호/일자' :\n",
    "                        try:\n",
    "                            Public_No = li.text.split('(65) 공개번호/일자 ')[1].split(\" \")[0]\n",
    "                            Public_Date = li.text.split('(65) 공개번호/일자 ')[1].split(\" \")[1][1:-1]\n",
    "                        except : continue\n",
    "                    elif li.text[:5] == '법적상태 ' :\n",
    "                        try : legal_state = li.text.split('법적상태 ')[1]\n",
    "                        except : continue\n",
    "                    elif li.text[:6] == '심사청구항수' :\n",
    "                        try: \n",
    "                            claims_count = li.text.split('심사청구항수 ')[1]\n",
    "                        except : continue\n",
    "                    elif li.text[:3] == '구분 ' :\n",
    "                        try : category = li.text.split('구분 ')[1]\n",
    "                        except : continue                              \n",
    "\n",
    "                # pdf 다운로드\n",
    "                #pdfDownload = driver.find_element(By.CLASS_NAME, 'right_align')\n",
    "                #pdfDownload2 = pdfDownload.find_element(By.TAG_NAME,\"a\")\n",
    "                #pdfDownload2.click()\n",
    "                #time.sleep(1)   \n",
    "\n",
    "                driver.switch_to.default_content() # iframe에서 나온다. 이거 무조건 해줘야 한다.   \n",
    "                \n",
    "                # 이제 패밀리 개수 받으러 갈거야\n",
    "                driver.find_element(By.XPATH, '/html/body/div[1]/div/div/section[1]/div/ul/li[1]/ul/li[7]/a').click()\n",
    "                \n",
    "                content = driver.find_element(By.TAG_NAME,\"iframe\")\n",
    "                driver.switch_to.frame(content) # iframe 안으로 들어간다.\n",
    "             \n",
    "                tBody= driver.find_element(By.CLASS_NAME, 'tstyle_list')\n",
    "                trLis = tBody.find_elements(By.TAG_NAME, 'tr') # tBody 내에서 lr 리스트 검색\n",
    "                if trLis[1].text == '데이터가 존재하지 않습니다.' :\n",
    "                    family_count = len(trLis)-2\n",
    "                else :\n",
    "                    family_count = len(trLis)-1\n",
    "\n",
    "                driver.switch_to.default_content()\n",
    "                time.sleep(1)\n",
    "                \n",
    "                \n",
    "                # 소멸한 특허면 등록사항에 소멸일자 받으러 갈 거야\n",
    "                \n",
    "                if legal_state[:2] == '소멸' :      \n",
    "                    driver.find_element(By.CSS_SELECTOR, '#liView07 > a').click()   \n",
    "                    time.sleep(0.5)\n",
    "\n",
    "                    content = driver.find_element(By.TAG_NAME,\"iframe\")\n",
    "                    driver.switch_to.frame(content) # iframe 안으로 들어간다.\n",
    "                    \n",
    "                    time.sleep(0.5)\n",
    "\n",
    "                    tBody= driver.find_element(By.XPATH, '/html/body/table[1]')\n",
    "                    trLis = tBody.find_elements(By.TAG_NAME, 'tr') # tBody 내에서 tr 리스트 검색\n",
    "                    \n",
    "                    time.sleep(0.5)\n",
    "\n",
    "                    for tr in trLis :\n",
    "                        if tr.text[:6] == '등록원인일자' :\n",
    "                            try : Expiration_Date = tr.text.split(\"등록원인일자 : \")[1].split(\" 등 록\")[0]\n",
    "                            except : continue                    \n",
    "                                  \n",
    "                    driver.switch_to.default_content()\n",
    "                    time.sleep(1)\n",
    "                    \n",
    "                    \n",
    "                                              \n",
    "                patent_info = {\n",
    "                    'Page_No' : tab_current_page,\n",
    "                    'Application_No' : Application_No,\n",
    "                    'Application_Date' : Application_Date,\n",
    "                    'Applicant' : Applicant,\n",
    "                    'legal_state' : legal_state,\n",
    "                    'patent_name_Kor' : patent_name_Kor,\n",
    "                    'patent_name_Eng' : patent_name_Eng,\n",
    "                    'IPC' : IPC,\n",
    "                    'CPC' : CPC, \n",
    "                    'Public_No' : Public_No,\n",
    "                    'Public_Date' : Public_Date,\n",
    "                    'category' : category,\n",
    "                    'claims_count' : claims_count,\n",
    "                    'family_count' : family_count,\n",
    "                    'Expiration_Date' : Expiration_Date\n",
    "                }\n",
    "                patent_link.append(patent_info)        \n",
    "\n",
    "                \n",
    "            except :\n",
    "                print('에러발생!!!   페이지, 출원번호(일단 건너뜀): ',tab_current_page, Application_No)\n",
    "                driver.switch_to.window(driver.window_handles[-1])\n",
    "                \n",
    "                error_patent_info = {\n",
    "                    'Page_No' : tab_current_page,\n",
    "                    'Application_No' : Application_No,\n",
    "                }\n",
    "                error_patent_link.append(error_patent_info)\n",
    "                continue\n",
    "    \n",
    "        if tab_current_page == end_page : # end_page는 5의 배수니까 \n",
    "            time.sleep(7)\n",
    "            driver.find_element(By.CSS_SELECTOR, '#divBiblioLeft > div.board_pager02 > a.next').click()\n",
    "            tab_current_page = int(driver.find_element(By.TAG_NAME,\"strong\").text) # 새탭에서 현재 페이지\n",
    "            print(\"스크래핑 종료\")\n",
    "            break                     \n",
    "        elif (tab_current_page % 5) == 1 :\n",
    "            time.sleep(7)\n",
    "            #driver.find_element(By.CSS_SELECTOR, '#divBiblioLeft > div.board_pager02 > a:nth-child(3)').click()\n",
    "            driver.find_element(By.CSS_SELECTOR, '#divBiblioLeft > div.board_pager02 > a:nth-child(3)').send_keys(Keys.ENTER)\n",
    "        elif (tab_current_page % 5) == 2 :\n",
    "            time.sleep(7)\n",
    "            #driver.find_element(By.CSS_SELECTOR, '#divBiblioLeft > div.board_pager02 > a:nth-child(4)').click() \n",
    "            driver.find_element(By.CSS_SELECTOR, '#divBiblioLeft > div.board_pager02 > a:nth-child(4)').send_keys(Keys.ENTER)\n",
    "        elif (tab_current_page % 5) == 3 :\n",
    "            time.sleep(7)\n",
    "            #driver.find_element(By.CSS_SELECTOR, '#divBiblioLeft > div.board_pager02 > a:nth-child(5)').click()\n",
    "            driver.find_element(By.CSS_SELECTOR, '#divBiblioLeft > div.board_pager02 > a:nth-child(5)').send_keys(Keys.ENTER)\n",
    "        elif (tab_current_page % 5) == 4 :\n",
    "            time.sleep(7)\n",
    "            #driver.find_element(By.CSS_SELECTOR, '#divBiblioLeft > div.board_pager02 > a:nth-child(6)').click() \n",
    "            driver.find_element(By.CSS_SELECTOR, '#divBiblioLeft > div.board_pager02 > a:nth-child(6)').send_keys(Keys.ENTER) \n",
    "        elif (tab_current_page % 5) == 0 :\n",
    "            time.sleep(7)\n",
    "            #driver.find_element(By.CSS_SELECTOR, '#divBiblioLeft > div.board_pager02 > a.next').click()   \n",
    "            try : driver.find_element(By.CSS_SELECTOR, '#divBiblioLeft > div.board_pager02 > a.next').send_keys(Keys.ENTER)     \n",
    "            except :        \n",
    "                time.sleep(20)\n",
    "                driver.find_element(By.CSS_SELECTOR, '#divBiblioLeft > div.board_pager02 > a.next').send_keys(Keys.ENTER) \n",
    "\n",
    "    df = pd.DataFrame(patent_link)\n",
    "    df.head()\n",
    "    df.to_csv('df_%d_%d.csv'%(s_page, end_page), index=False, encoding='utf-8-sig')\n",
    " \n",
    "    error_df = pd.DataFrame(error_patent_link)\n",
    "    error_df.head()\n",
    "    error_df.to_csv('error_df_%d_%d.csv'%(s_page, end_page), index=False, encoding='utf-8-sig')"
   ]
  }
 ],
 "metadata": {
  "kernelspec": {
   "display_name": "Python 3 (ipykernel)",
   "language": "python",
   "name": "python3"
  },
  "language_info": {
   "codemirror_mode": {
    "name": "ipython",
    "version": 3
   },
   "file_extension": ".py",
   "mimetype": "text/x-python",
   "name": "python",
   "nbconvert_exporter": "python",
   "pygments_lexer": "ipython3",
   "version": "3.9.12"
  },
  "vscode": {
   "interpreter": {
    "hash": "28bca50f14677f5128e5f5b2c486ff56945ed9f793913ce3e2589aa7d9dfcea8"
   }
  }
 },
 "nbformat": 4,
 "nbformat_minor": 5
}
